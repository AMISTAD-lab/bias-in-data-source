{
 "cells": [
  {
   "cell_type": "code",
   "execution_count": 2,
   "metadata": {},
   "outputs": [
    {
     "name": "stdout",
     "output_type": "stream",
     "text": [
      "Data processed successfully.\n"
     ]
    }
   ],
   "source": [
    "import pandas as pd\n",
    "from hypothesis_test import *\n",
    "from kardis_test import *\n",
    "from mg_calculator import *\n",
    "from q_finder import *\n",
    "from data_bin_slicer_multival import *\n",
    "\n",
    "def excel_to_list(filepath,columns):\n",
    "    data = pd.read_excel(filepath) \n",
    "    df = pd.DataFrame(data,columns= columns)\n",
    "    array = df.to_numpy()\n",
    "    data_list = array.tolist()\n",
    "    return data_list\n",
    "\n",
    "filepath = r\"Datasets/compass_extrapolated_100k.xlsx\"\n",
    "columns= ['sex','race']\n",
    "observation = excel_to_list(filepath,columns) \n",
    "if len(observation) == 100000 and type(observation) == list:\n",
    "    print('Data processed successfully.')\n",
    "else:\n",
    "    print('Data processing failed.')"
   ]
  },
  {
   "cell_type": "code",
   "execution_count": 4,
   "metadata": {},
   "outputs": [
    {
     "name": "stdout",
     "output_type": "stream",
     "text": [
      "Proposed distribution rejected at alpha = 0.05. Kardis = 4.7348435371547e-960.\n",
      "Any plausible distribution must boost probability over the given distribution by 1.05600110347144e+958, and will therefore have a minimum probability of 4.63149071624716e-8.\n",
      "Closest plausible distribution: [0.16307709611014462, 0.8369229038898555]\n",
      "Proposed distribution rejected at alpha = 0.05. Kardis = 4.7348435371547e-960.\n",
      "Any plausible distribution must boost probability over the given distribution by 1.05600110347144e+958, and will therefore have a minimum probability of 4.63149071624716e-8.\n",
      "Closest plausible distribution: [0.16307709611014462, 0.8369229038898555]\n",
      "Proposed distribution rejected at alpha = 0.05. Kardis = 4.7348435371547e-960.\n",
      "Any plausible distribution must boost probability over the given distribution by 1.05600110347144e+958, and will therefore have a minimum probability of 4.63149071624716e-8.\n",
      "Closest plausible distribution: [0.16307709611014462, 0.8369229038898555]\n",
      "Proposed distribution rejected at alpha = 0.05. Kardis = 4.7348435371547e-960.\n",
      "Any plausible distribution must boost probability over the given distribution by 1.05600110347144e+958, and will therefore have a minimum probability of 4.63149071624716e-8.\n",
      "Closest plausible distribution: [0.16307709611014462, 0.8369229038898555]\n",
      "Proposed distribution rejected at alpha = 0.05. Kardis = 4.7348435371547e-960.\n",
      "Any plausible distribution must boost probability over the given distribution by 1.05600110347144e+958, and will therefore have a minimum probability of 4.63149071624716e-8.\n",
      "Closest plausible distribution: [0.16307709611014462, 0.8369229038898555]\n",
      "Proposed distribution rejected at alpha = 0.05. Kardis = 4.7348435371547e-960.\n",
      "Any plausible distribution must boost probability over the given distribution by 1.05600110347144e+958, and will therefore have a minimum probability of 4.63149071624716e-8.\n",
      "Closest plausible distribution: [0.16307709611014462, 0.8369229038898555]\n",
      "Proposed distribution rejected at alpha = 0.05. Kardis = 4.7348435371547e-960.\n",
      "Any plausible distribution must boost probability over the given distribution by 1.05600110347144e+958, and will therefore have a minimum probability of 4.63149071624716e-8.\n",
      "Closest plausible distribution: [0.16307709611014462, 0.8369229038898555]\n",
      "Proposed distribution rejected at alpha = 0.05. Kardis = 4.7348435371547e-960.\n",
      "Any plausible distribution must boost probability over the given distribution by 1.05600110347144e+958, and will therefore have a minimum probability of 4.63149071624716e-8.\n",
      "Closest plausible distribution: [0.16307709611014462, 0.8369229038898555]\n",
      "Proposed distribution rejected at alpha = 0.05. Kardis = 4.7348435371547e-960.\n",
      "Any plausible distribution must boost probability over the given distribution by 1.05600110347144e+958, and will therefore have a minimum probability of 4.63149071624716e-8.\n",
      "Closest plausible distribution: [0.16307709611014462, 0.8369229038898555]\n",
      "Proposed distribution rejected at alpha = 0.05. Kardis = 4.7348435371547e-960.\n",
      "Any plausible distribution must boost probability over the given distribution by 1.05600110347144e+958, and will therefore have a minimum probability of 4.63149071624716e-8.\n",
      "Closest plausible distribution: [0.16307709611014462, 0.8369229038898555]\n",
      "1.5 s ± 3.95 ms per loop (mean ± std. dev. of 10 runs, 1 loop each)\n",
      "Proposed distribution rejected at alpha = 0.05. Kardis = 7.71773730713165e-1596.\n",
      "Any plausible distribution must boost probability over the given distribution by 6.47858277759688e+1593, and will therefore have a minimum probability of 4.41031138066872e-13.\n",
      "Closest plausible distribution: [0.16302178455767868, 0.05010902609320567, 0.7868691893491156]\n",
      "Proposed distribution rejected at alpha = 0.05. Kardis = 7.71773730713165e-1596.\n",
      "Any plausible distribution must boost probability over the given distribution by 6.47858277759688e+1593, and will therefore have a minimum probability of 4.41031138066872e-13.\n",
      "Closest plausible distribution: [0.16302178455767868, 0.05010902609320567, 0.7868691893491156]\n",
      "Proposed distribution rejected at alpha = 0.05. Kardis = 7.71773730713165e-1596.\n",
      "Any plausible distribution must boost probability over the given distribution by 6.47858277759688e+1593, and will therefore have a minimum probability of 4.41031138066872e-13.\n",
      "Closest plausible distribution: [0.16302178455767868, 0.05010902609320567, 0.7868691893491156]\n",
      "Proposed distribution rejected at alpha = 0.05. Kardis = 7.71773730713165e-1596.\n",
      "Any plausible distribution must boost probability over the given distribution by 6.47858277759688e+1593, and will therefore have a minimum probability of 4.41031138066872e-13.\n",
      "Closest plausible distribution: [0.16302178455767868, 0.05010902609320567, 0.7868691893491156]\n",
      "Proposed distribution rejected at alpha = 0.05. Kardis = 7.71773730713165e-1596.\n",
      "Any plausible distribution must boost probability over the given distribution by 6.47858277759688e+1593, and will therefore have a minimum probability of 4.41031138066872e-13.\n",
      "Closest plausible distribution: [0.16302178455767868, 0.05010902609320567, 0.7868691893491156]\n",
      "Proposed distribution rejected at alpha = 0.05. Kardis = 7.71773730713165e-1596.\n",
      "Any plausible distribution must boost probability over the given distribution by 6.47858277759688e+1593, and will therefore have a minimum probability of 4.41031138066872e-13.\n",
      "Closest plausible distribution: [0.16302178455767868, 0.05010902609320567, 0.7868691893491156]\n",
      "Proposed distribution rejected at alpha = 0.05. Kardis = 7.71773730713165e-1596.\n",
      "Any plausible distribution must boost probability over the given distribution by 6.47858277759688e+1593, and will therefore have a minimum probability of 4.41031138066872e-13.\n",
      "Closest plausible distribution: [0.16302178455767868, 0.05010902609320567, 0.7868691893491156]\n",
      "Proposed distribution rejected at alpha = 0.05. Kardis = 7.71773730713165e-1596.\n",
      "Any plausible distribution must boost probability over the given distribution by 6.47858277759688e+1593, and will therefore have a minimum probability of 4.41031138066872e-13.\n",
      "Closest plausible distribution: [0.16302178455767868, 0.05010902609320567, 0.7868691893491156]\n",
      "Proposed distribution rejected at alpha = 0.05. Kardis = 7.71773730713165e-1596.\n",
      "Any plausible distribution must boost probability over the given distribution by 6.47858277759688e+1593, and will therefore have a minimum probability of 4.41031138066872e-13.\n",
      "Closest plausible distribution: [0.16302178455767868, 0.05010902609320567, 0.7868691893491156]\n",
      "Proposed distribution rejected at alpha = 0.05. Kardis = 7.71773730713165e-1596.\n",
      "Any plausible distribution must boost probability over the given distribution by 6.47858277759688e+1593, and will therefore have a minimum probability of 4.41031138066872e-13.\n",
      "Closest plausible distribution: [0.16302178455767868, 0.05010902609320567, 0.7868691893491156]\n",
      "1.73 s ± 14.2 ms per loop (mean ± std. dev. of 10 runs, 1 loop each)\n",
      "Proposed distribution rejected at alpha = 0.05. Kardis = 3.2679209887857e-42755.\n",
      "Any plausible distribution must boost probability over the given distribution by 1.53002475187073e+42753, and will therefore have a minimum probability of 2.57381528136935e-17.\n",
      "Closest plausible distribution: [0.16983081107520184, 0.04872817155129042, 0.6227062672655467, 0.15873475010796106]\n"
     ]
    },
    {
     "ename": "KeyboardInterrupt",
     "evalue": "",
     "output_type": "error",
     "traceback": [
      "\u001b[1;31m---------------------------------------------------------------------------\u001b[0m",
      "\u001b[1;31mKeyboardInterrupt\u001b[0m                         Traceback (most recent call last)",
      "\u001b[1;32m<ipython-input-4-6544db01002d>\u001b[0m in \u001b[0;36m<module>\u001b[1;34m\u001b[0m\n\u001b[0;32m     16\u001b[0m         \u001b[0mselectedvalue\u001b[0m \u001b[1;33m+=\u001b[0m \u001b[1;33m[\u001b[0m\u001b[0mvalue_list\u001b[0m\u001b[1;33m[\u001b[0m\u001b[0midx\u001b[0m\u001b[1;33m]\u001b[0m\u001b[1;33m]\u001b[0m\u001b[1;33m\u001b[0m\u001b[1;33m\u001b[0m\u001b[0m\n\u001b[0;32m     17\u001b[0m     \u001b[0mndata\u001b[0m\u001b[1;33m,\u001b[0m \u001b[0mncounts\u001b[0m\u001b[1;33m,\u001b[0m \u001b[0mnhypothesis\u001b[0m\u001b[1;33m,\u001b[0m \u001b[0mnvaluelist\u001b[0m \u001b[1;33m=\u001b[0m \u001b[0mdata_bin_slicer_multival\u001b[0m\u001b[1;33m(\u001b[0m\u001b[0mdata\u001b[0m\u001b[1;33m,\u001b[0m \u001b[0mhypothesis\u001b[0m\u001b[1;33m,\u001b[0m \u001b[0mvalue_list\u001b[0m\u001b[1;33m,\u001b[0m \u001b[0mselectedvalue\u001b[0m\u001b[1;33m)\u001b[0m\u001b[1;33m\u001b[0m\u001b[1;33m\u001b[0m\u001b[0m\n\u001b[1;32m---> 18\u001b[1;33m     \u001b[0mmy_time\u001b[0m \u001b[1;33m=\u001b[0m \u001b[0mget_ipython\u001b[0m\u001b[1;33m(\u001b[0m\u001b[1;33m)\u001b[0m\u001b[1;33m.\u001b[0m\u001b[0mrun_line_magic\u001b[0m\u001b[1;33m(\u001b[0m\u001b[1;34m'timeit'\u001b[0m\u001b[1;33m,\u001b[0m \u001b[1;34m'-n 1 -r 10 -o hypothesis_test(ndata, nvaluelist, alpha, nhypothesis)'\u001b[0m\u001b[1;33m)\u001b[0m\u001b[1;33m\u001b[0m\u001b[1;33m\u001b[0m\u001b[0m\n\u001b[0m\u001b[0;32m     19\u001b[0m     \u001b[0mbins\u001b[0m \u001b[1;33m+=\u001b[0m \u001b[1;36m1\u001b[0m\u001b[1;33m\u001b[0m\u001b[1;33m\u001b[0m\u001b[0m\n\u001b[0;32m     20\u001b[0m     \u001b[0mnum_bins\u001b[0m\u001b[1;33m.\u001b[0m\u001b[0mappend\u001b[0m\u001b[1;33m(\u001b[0m\u001b[0mbins\u001b[0m\u001b[1;33m)\u001b[0m\u001b[1;33m\u001b[0m\u001b[1;33m\u001b[0m\u001b[0m\n",
      "\u001b[1;32m~\\Anaconda3\\lib\\site-packages\\IPython\\core\\interactiveshell.py\u001b[0m in \u001b[0;36mrun_line_magic\u001b[1;34m(self, magic_name, line, _stack_depth)\u001b[0m\n\u001b[0;32m   2325\u001b[0m                 \u001b[0mkwargs\u001b[0m\u001b[1;33m[\u001b[0m\u001b[1;34m'local_ns'\u001b[0m\u001b[1;33m]\u001b[0m \u001b[1;33m=\u001b[0m \u001b[0mself\u001b[0m\u001b[1;33m.\u001b[0m\u001b[0mget_local_scope\u001b[0m\u001b[1;33m(\u001b[0m\u001b[0mstack_depth\u001b[0m\u001b[1;33m)\u001b[0m\u001b[1;33m\u001b[0m\u001b[1;33m\u001b[0m\u001b[0m\n\u001b[0;32m   2326\u001b[0m             \u001b[1;32mwith\u001b[0m \u001b[0mself\u001b[0m\u001b[1;33m.\u001b[0m\u001b[0mbuiltin_trap\u001b[0m\u001b[1;33m:\u001b[0m\u001b[1;33m\u001b[0m\u001b[1;33m\u001b[0m\u001b[0m\n\u001b[1;32m-> 2327\u001b[1;33m                 \u001b[0mresult\u001b[0m \u001b[1;33m=\u001b[0m \u001b[0mfn\u001b[0m\u001b[1;33m(\u001b[0m\u001b[1;33m*\u001b[0m\u001b[0margs\u001b[0m\u001b[1;33m,\u001b[0m \u001b[1;33m**\u001b[0m\u001b[0mkwargs\u001b[0m\u001b[1;33m)\u001b[0m\u001b[1;33m\u001b[0m\u001b[1;33m\u001b[0m\u001b[0m\n\u001b[0m\u001b[0;32m   2328\u001b[0m             \u001b[1;32mreturn\u001b[0m \u001b[0mresult\u001b[0m\u001b[1;33m\u001b[0m\u001b[1;33m\u001b[0m\u001b[0m\n\u001b[0;32m   2329\u001b[0m \u001b[1;33m\u001b[0m\u001b[0m\n",
      "\u001b[1;32m<decorator-gen-54>\u001b[0m in \u001b[0;36mtimeit\u001b[1;34m(self, line, cell, local_ns)\u001b[0m\n",
      "\u001b[1;32m~\\Anaconda3\\lib\\site-packages\\IPython\\core\\magic.py\u001b[0m in \u001b[0;36m<lambda>\u001b[1;34m(f, *a, **k)\u001b[0m\n\u001b[0;32m    185\u001b[0m     \u001b[1;31m# but it's overkill for just that one bit of state.\u001b[0m\u001b[1;33m\u001b[0m\u001b[1;33m\u001b[0m\u001b[1;33m\u001b[0m\u001b[0m\n\u001b[0;32m    186\u001b[0m     \u001b[1;32mdef\u001b[0m \u001b[0mmagic_deco\u001b[0m\u001b[1;33m(\u001b[0m\u001b[0marg\u001b[0m\u001b[1;33m)\u001b[0m\u001b[1;33m:\u001b[0m\u001b[1;33m\u001b[0m\u001b[1;33m\u001b[0m\u001b[0m\n\u001b[1;32m--> 187\u001b[1;33m         \u001b[0mcall\u001b[0m \u001b[1;33m=\u001b[0m \u001b[1;32mlambda\u001b[0m \u001b[0mf\u001b[0m\u001b[1;33m,\u001b[0m \u001b[1;33m*\u001b[0m\u001b[0ma\u001b[0m\u001b[1;33m,\u001b[0m \u001b[1;33m**\u001b[0m\u001b[0mk\u001b[0m\u001b[1;33m:\u001b[0m \u001b[0mf\u001b[0m\u001b[1;33m(\u001b[0m\u001b[1;33m*\u001b[0m\u001b[0ma\u001b[0m\u001b[1;33m,\u001b[0m \u001b[1;33m**\u001b[0m\u001b[0mk\u001b[0m\u001b[1;33m)\u001b[0m\u001b[1;33m\u001b[0m\u001b[1;33m\u001b[0m\u001b[0m\n\u001b[0m\u001b[0;32m    188\u001b[0m \u001b[1;33m\u001b[0m\u001b[0m\n\u001b[0;32m    189\u001b[0m         \u001b[1;32mif\u001b[0m \u001b[0mcallable\u001b[0m\u001b[1;33m(\u001b[0m\u001b[0marg\u001b[0m\u001b[1;33m)\u001b[0m\u001b[1;33m:\u001b[0m\u001b[1;33m\u001b[0m\u001b[1;33m\u001b[0m\u001b[0m\n",
      "\u001b[1;32m~\\Anaconda3\\lib\\site-packages\\IPython\\core\\magics\\execution.py\u001b[0m in \u001b[0;36mtimeit\u001b[1;34m(self, line, cell, local_ns)\u001b[0m\n\u001b[0;32m   1171\u001b[0m                     \u001b[1;32mbreak\u001b[0m\u001b[1;33m\u001b[0m\u001b[1;33m\u001b[0m\u001b[0m\n\u001b[0;32m   1172\u001b[0m \u001b[1;33m\u001b[0m\u001b[0m\n\u001b[1;32m-> 1173\u001b[1;33m         \u001b[0mall_runs\u001b[0m \u001b[1;33m=\u001b[0m \u001b[0mtimer\u001b[0m\u001b[1;33m.\u001b[0m\u001b[0mrepeat\u001b[0m\u001b[1;33m(\u001b[0m\u001b[0mrepeat\u001b[0m\u001b[1;33m,\u001b[0m \u001b[0mnumber\u001b[0m\u001b[1;33m)\u001b[0m\u001b[1;33m\u001b[0m\u001b[1;33m\u001b[0m\u001b[0m\n\u001b[0m\u001b[0;32m   1174\u001b[0m         \u001b[0mbest\u001b[0m \u001b[1;33m=\u001b[0m \u001b[0mmin\u001b[0m\u001b[1;33m(\u001b[0m\u001b[0mall_runs\u001b[0m\u001b[1;33m)\u001b[0m \u001b[1;33m/\u001b[0m \u001b[0mnumber\u001b[0m\u001b[1;33m\u001b[0m\u001b[1;33m\u001b[0m\u001b[0m\n\u001b[0;32m   1175\u001b[0m         \u001b[0mworst\u001b[0m \u001b[1;33m=\u001b[0m \u001b[0mmax\u001b[0m\u001b[1;33m(\u001b[0m\u001b[0mall_runs\u001b[0m\u001b[1;33m)\u001b[0m \u001b[1;33m/\u001b[0m \u001b[0mnumber\u001b[0m\u001b[1;33m\u001b[0m\u001b[1;33m\u001b[0m\u001b[0m\n",
      "\u001b[1;32m~\\Anaconda3\\lib\\timeit.py\u001b[0m in \u001b[0;36mrepeat\u001b[1;34m(self, repeat, number)\u001b[0m\n\u001b[0;32m    203\u001b[0m         \u001b[0mr\u001b[0m \u001b[1;33m=\u001b[0m \u001b[1;33m[\u001b[0m\u001b[1;33m]\u001b[0m\u001b[1;33m\u001b[0m\u001b[1;33m\u001b[0m\u001b[0m\n\u001b[0;32m    204\u001b[0m         \u001b[1;32mfor\u001b[0m \u001b[0mi\u001b[0m \u001b[1;32min\u001b[0m \u001b[0mrange\u001b[0m\u001b[1;33m(\u001b[0m\u001b[0mrepeat\u001b[0m\u001b[1;33m)\u001b[0m\u001b[1;33m:\u001b[0m\u001b[1;33m\u001b[0m\u001b[1;33m\u001b[0m\u001b[0m\n\u001b[1;32m--> 205\u001b[1;33m             \u001b[0mt\u001b[0m \u001b[1;33m=\u001b[0m \u001b[0mself\u001b[0m\u001b[1;33m.\u001b[0m\u001b[0mtimeit\u001b[0m\u001b[1;33m(\u001b[0m\u001b[0mnumber\u001b[0m\u001b[1;33m)\u001b[0m\u001b[1;33m\u001b[0m\u001b[1;33m\u001b[0m\u001b[0m\n\u001b[0m\u001b[0;32m    206\u001b[0m             \u001b[0mr\u001b[0m\u001b[1;33m.\u001b[0m\u001b[0mappend\u001b[0m\u001b[1;33m(\u001b[0m\u001b[0mt\u001b[0m\u001b[1;33m)\u001b[0m\u001b[1;33m\u001b[0m\u001b[1;33m\u001b[0m\u001b[0m\n\u001b[0;32m    207\u001b[0m         \u001b[1;32mreturn\u001b[0m \u001b[0mr\u001b[0m\u001b[1;33m\u001b[0m\u001b[1;33m\u001b[0m\u001b[0m\n",
      "\u001b[1;32m~\\Anaconda3\\lib\\site-packages\\IPython\\core\\magics\\execution.py\u001b[0m in \u001b[0;36mtimeit\u001b[1;34m(self, number)\u001b[0m\n\u001b[0;32m    167\u001b[0m         \u001b[0mgc\u001b[0m\u001b[1;33m.\u001b[0m\u001b[0mdisable\u001b[0m\u001b[1;33m(\u001b[0m\u001b[1;33m)\u001b[0m\u001b[1;33m\u001b[0m\u001b[1;33m\u001b[0m\u001b[0m\n\u001b[0;32m    168\u001b[0m         \u001b[1;32mtry\u001b[0m\u001b[1;33m:\u001b[0m\u001b[1;33m\u001b[0m\u001b[1;33m\u001b[0m\u001b[0m\n\u001b[1;32m--> 169\u001b[1;33m             \u001b[0mtiming\u001b[0m \u001b[1;33m=\u001b[0m \u001b[0mself\u001b[0m\u001b[1;33m.\u001b[0m\u001b[0minner\u001b[0m\u001b[1;33m(\u001b[0m\u001b[0mit\u001b[0m\u001b[1;33m,\u001b[0m \u001b[0mself\u001b[0m\u001b[1;33m.\u001b[0m\u001b[0mtimer\u001b[0m\u001b[1;33m)\u001b[0m\u001b[1;33m\u001b[0m\u001b[1;33m\u001b[0m\u001b[0m\n\u001b[0m\u001b[0;32m    170\u001b[0m         \u001b[1;32mfinally\u001b[0m\u001b[1;33m:\u001b[0m\u001b[1;33m\u001b[0m\u001b[1;33m\u001b[0m\u001b[0m\n\u001b[0;32m    171\u001b[0m             \u001b[1;32mif\u001b[0m \u001b[0mgcold\u001b[0m\u001b[1;33m:\u001b[0m\u001b[1;33m\u001b[0m\u001b[1;33m\u001b[0m\u001b[0m\n",
      "\u001b[1;32m<magic-timeit>\u001b[0m in \u001b[0;36minner\u001b[1;34m(_it, _timer)\u001b[0m\n",
      "\u001b[1;32m~\\Documents\\AMISTAD\\Bias-in-Data\\hypothesis_test.py\u001b[0m in \u001b[0;36mhypothesis_test\u001b[1;34m(data, value_list, alpha, hypothesis)\u001b[0m\n\u001b[0;32m     20\u001b[0m         \u001b[0mhyp\u001b[0m \u001b[1;33m=\u001b[0m \u001b[0mhypothesis\u001b[0m\u001b[1;33m\u001b[0m\u001b[1;33m\u001b[0m\u001b[0m\n\u001b[0;32m     21\u001b[0m     \u001b[0mcount_vector\u001b[0m \u001b[1;33m=\u001b[0m \u001b[1;33m[\u001b[0m\u001b[0mdata\u001b[0m\u001b[1;33m.\u001b[0m\u001b[0mcount\u001b[0m\u001b[1;33m(\u001b[0m\u001b[0mx\u001b[0m\u001b[1;33m)\u001b[0m \u001b[1;32mfor\u001b[0m \u001b[0mx\u001b[0m \u001b[1;32min\u001b[0m \u001b[0mvalue_list\u001b[0m\u001b[1;33m]\u001b[0m\u001b[1;33m\u001b[0m\u001b[1;33m\u001b[0m\u001b[0m\n\u001b[1;32m---> 22\u001b[1;33m     \u001b[0mkardis\u001b[0m\u001b[1;33m,\u001b[0m \u001b[0mreject\u001b[0m\u001b[1;33m,\u001b[0m \u001b[0mr\u001b[0m\u001b[1;33m,\u001b[0m \u001b[0mnu\u001b[0m\u001b[1;33m,\u001b[0m \u001b[0mh\u001b[0m \u001b[1;33m=\u001b[0m \u001b[0mkardis_test_main\u001b[0m\u001b[1;33m(\u001b[0m\u001b[0mcount_vector\u001b[0m\u001b[1;33m,\u001b[0m \u001b[0malpha\u001b[0m\u001b[1;33m,\u001b[0m \u001b[0mhyp\u001b[0m\u001b[1;33m)\u001b[0m\u001b[1;33m\u001b[0m\u001b[1;33m\u001b[0m\u001b[0m\n\u001b[0m\u001b[0;32m     23\u001b[0m     \u001b[1;32mif\u001b[0m \u001b[0mreject\u001b[0m\u001b[1;33m:\u001b[0m\u001b[1;33m\u001b[0m\u001b[1;33m\u001b[0m\u001b[0m\n\u001b[0;32m     24\u001b[0m         \u001b[0mprint\u001b[0m\u001b[1;33m(\u001b[0m\u001b[1;34m\"Proposed distribution rejected at alpha = \"\u001b[0m \u001b[1;33m+\u001b[0m \u001b[0mstr\u001b[0m\u001b[1;33m(\u001b[0m\u001b[0malpha\u001b[0m\u001b[1;33m)\u001b[0m  \u001b[1;33m+\u001b[0m \u001b[1;34m\". Kardis = \"\u001b[0m \u001b[1;33m+\u001b[0m \u001b[0mstr\u001b[0m\u001b[1;33m(\u001b[0m\u001b[0mkardis\u001b[0m\u001b[1;33m)\u001b[0m \u001b[1;33m+\u001b[0m \u001b[1;34m\".\"\u001b[0m\u001b[1;33m)\u001b[0m\u001b[1;33m\u001b[0m\u001b[1;33m\u001b[0m\u001b[0m\n",
      "\u001b[1;32m~\\Documents\\AMISTAD\\Bias-in-Data\\kardis_test.py\u001b[0m in \u001b[0;36mkardis_test_main\u001b[1;34m(counts, alpha, hypothesis)\u001b[0m\n\u001b[0;32m     15\u001b[0m     \u001b[0mn\u001b[0m \u001b[1;33m=\u001b[0m \u001b[0msum\u001b[0m\u001b[1;33m(\u001b[0m\u001b[0mcounts\u001b[0m\u001b[1;33m)\u001b[0m\u001b[1;33m\u001b[0m\u001b[1;33m\u001b[0m\u001b[0m\n\u001b[0;32m     16\u001b[0m     \u001b[0mnorm_scriptx\u001b[0m \u001b[1;33m=\u001b[0m \u001b[0mmath\u001b[0m\u001b[1;33m.\u001b[0m\u001b[0mcomb\u001b[0m\u001b[1;33m(\u001b[0m\u001b[0mn\u001b[0m\u001b[1;33m+\u001b[0m\u001b[0mnum_bins\u001b[0m\u001b[1;33m-\u001b[0m\u001b[1;36m1\u001b[0m\u001b[1;33m,\u001b[0m \u001b[0mnum_bins\u001b[0m\u001b[1;33m-\u001b[0m\u001b[1;36m1\u001b[0m\u001b[1;33m)\u001b[0m\u001b[1;33m\u001b[0m\u001b[1;33m\u001b[0m\u001b[0m\n\u001b[1;32m---> 17\u001b[1;33m     \u001b[0mmg\u001b[0m \u001b[1;33m=\u001b[0m \u001b[0mmg_calculator\u001b[0m\u001b[1;33m(\u001b[0m\u001b[0mcounts\u001b[0m\u001b[1;33m,\u001b[0m \u001b[0mhypothesis\u001b[0m\u001b[1;33m)\u001b[0m\u001b[1;33m\u001b[0m\u001b[1;33m\u001b[0m\u001b[0m\n\u001b[0m\u001b[0;32m     18\u001b[0m     \u001b[0mnu\u001b[0m \u001b[1;33m=\u001b[0m \u001b[0mnorm_scriptx\u001b[0m\u001b[1;33m/\u001b[0m\u001b[0mmg\u001b[0m\u001b[1;33m\u001b[0m\u001b[1;33m\u001b[0m\u001b[0m\n\u001b[0;32m     19\u001b[0m     \u001b[0mr\u001b[0m \u001b[1;33m=\u001b[0m \u001b[0mnorm_scriptx\u001b[0m\u001b[1;33m*\u001b[0m\u001b[1;33m(\u001b[0m\u001b[1;36m1\u001b[0m\u001b[1;33m+\u001b[0m\u001b[0mmath\u001b[0m\u001b[1;33m.\u001b[0m\u001b[0mlog\u001b[0m\u001b[1;33m(\u001b[0m\u001b[0mnorm_scriptx\u001b[0m\u001b[1;33m)\u001b[0m\u001b[1;33m)\u001b[0m\u001b[1;33m\u001b[0m\u001b[1;33m\u001b[0m\u001b[0m\n",
      "\u001b[1;32m~\\Documents\\AMISTAD\\Bias-in-Data\\mg_calculator.py\u001b[0m in \u001b[0;36mmg_calculator\u001b[1;34m(observed_freq, hypothesis)\u001b[0m\n\u001b[0;32m     31\u001b[0m             \u001b[1;32mfor\u001b[0m \u001b[0mi\u001b[0m \u001b[1;32min\u001b[0m \u001b[0mvalid_bins\u001b[0m\u001b[1;33m:\u001b[0m\u001b[1;33m\u001b[0m\u001b[1;33m\u001b[0m\u001b[0m\n\u001b[0;32m     32\u001b[0m                 \u001b[0mnum_neg_bins\u001b[0m \u001b[1;33m=\u001b[0m \u001b[0mi\u001b[0m\u001b[1;33m[\u001b[0m\u001b[1;36m1\u001b[0m\u001b[1;33m]\u001b[0m\u001b[1;33m\u001b[0m\u001b[1;33m\u001b[0m\u001b[0m\n\u001b[1;32m---> 33\u001b[1;33m                 \u001b[0mneg_placement_choices\u001b[0m \u001b[1;33m=\u001b[0m \u001b[0mnum_sized_integer_compositions\u001b[0m\u001b[1;33m(\u001b[0m\u001b[0mnum_neg_bins\u001b[0m\u001b[1;33m,\u001b[0m \u001b[0mhalf_distance\u001b[0m\u001b[1;33m,\u001b[0m \u001b[0mpowerset_dict\u001b[0m\u001b[1;33m[\u001b[0m\u001b[0mi\u001b[0m\u001b[1;33m[\u001b[0m\u001b[1;36m0\u001b[0m\u001b[1;33m]\u001b[0m\u001b[1;33m]\u001b[0m\u001b[1;33m)\u001b[0m\u001b[1;33m\u001b[0m\u001b[1;33m\u001b[0m\u001b[0m\n\u001b[0m\u001b[0;32m     34\u001b[0m                 \u001b[0mnum_pos_bins\u001b[0m \u001b[1;33m=\u001b[0m \u001b[0mnum_bins\u001b[0m \u001b[1;33m-\u001b[0m \u001b[0mnum_neg_bins\u001b[0m\u001b[1;33m\u001b[0m\u001b[1;33m\u001b[0m\u001b[0m\n\u001b[0;32m     35\u001b[0m                 \u001b[0mpos_placement_choices\u001b[0m \u001b[1;33m=\u001b[0m \u001b[0mnum_weak_compositions\u001b[0m\u001b[1;33m(\u001b[0m\u001b[0mnum_pos_bins\u001b[0m\u001b[1;33m,\u001b[0m \u001b[0mhalf_distance\u001b[0m\u001b[1;33m)\u001b[0m\u001b[1;33m\u001b[0m\u001b[1;33m\u001b[0m\u001b[0m\n",
      "\u001b[1;32m~\\Documents\\AMISTAD\\Bias-in-Data\\mg_calculator.py\u001b[0m in \u001b[0;36mnum_sized_integer_compositions\u001b[1;34m(length, total, powerset_list)\u001b[0m\n\u001b[0;32m     60\u001b[0m     \u001b[0mn\u001b[0m\u001b[1;33m,\u001b[0m \u001b[0mN\u001b[0m \u001b[1;33m=\u001b[0m \u001b[0mlength\u001b[0m\u001b[1;33m,\u001b[0m \u001b[0mtotal\u001b[0m\u001b[1;33m\u001b[0m\u001b[1;33m\u001b[0m\u001b[0m\n\u001b[0;32m     61\u001b[0m     \u001b[0mcomposition_count\u001b[0m \u001b[1;33m=\u001b[0m \u001b[1;36m0\u001b[0m\u001b[1;33m\u001b[0m\u001b[1;33m\u001b[0m\u001b[0m\n\u001b[1;32m---> 62\u001b[1;33m     \u001b[1;32mfor\u001b[0m \u001b[0mi\u001b[0m \u001b[1;32min\u001b[0m \u001b[0mpowerset_list\u001b[0m\u001b[1;33m:\u001b[0m\u001b[1;33m\u001b[0m\u001b[1;33m\u001b[0m\u001b[0m\n\u001b[0m\u001b[0;32m     63\u001b[0m         \u001b[0mm\u001b[0m \u001b[1;33m=\u001b[0m \u001b[0mN\u001b[0m\u001b[1;33m-\u001b[0m\u001b[1;36m1\u001b[0m\u001b[1;33m-\u001b[0m\u001b[0mi\u001b[0m\u001b[1;33m[\u001b[0m\u001b[1;36m2\u001b[0m\u001b[1;33m]\u001b[0m\u001b[1;33m\u001b[0m\u001b[1;33m\u001b[0m\u001b[0m\n\u001b[0;32m     64\u001b[0m         \u001b[1;32mif\u001b[0m \u001b[0mm\u001b[0m \u001b[1;33m>=\u001b[0m \u001b[1;36m0\u001b[0m\u001b[1;33m:\u001b[0m\u001b[1;33m\u001b[0m\u001b[1;33m\u001b[0m\u001b[0m\n",
      "\u001b[1;31mKeyboardInterrupt\u001b[0m: "
     ]
    }
   ],
   "source": [
    "value_list = [['Male','Caucasian'],['Female','Caucasian'],['Male','African-American'],['Female','African-American'],\n",
    "              ['Male','Hispanic'],['Female','Hispanic'],['Male','Asian'],['Female','Asian'],\n",
    "              ['Male','Other'],['Female','Other']]\n",
    "\n",
    "hypothesis = 10*[1/10] #uniform hypothesis\n",
    "\n",
    "alpha = 0.05 \n",
    "data = observation\n",
    "bins = 1\n",
    "num_bins = []\n",
    "run_times = []\n",
    "\n",
    "while bins < 10:\n",
    "    selectedvalue = []\n",
    "    for idx in range(bins):\n",
    "        selectedvalue += [value_list[idx]]\n",
    "    ndata, ncounts, nhypothesis, nvaluelist = data_bin_slicer_multival(data, hypothesis, value_list, selectedvalue)\n",
    "    my_time = %timeit -n 1 -r 10 -o hypothesis_test(ndata, nvaluelist, alpha, nhypothesis)\n",
    "    bins += 1\n",
    "    num_bins.append(bins)\n",
    "    run_times.append(str(my_time))\n",
    "\n",
    "#bin_count = list(range(2, 11))\n",
    "#run_time_frame = pd.DataFrame([bin_count, avg_run_times])\n",
    "#run_time_frame.to_excel(r\"Experiment results\\Time scaling\\Time scaling experiment results.xlsx\")"
   ]
  }
 ],
 "metadata": {
  "kernelspec": {
   "display_name": "Python 3",
   "language": "python",
   "name": "python3"
  },
  "language_info": {
   "codemirror_mode": {
    "name": "ipython",
    "version": 3
   },
   "file_extension": ".py",
   "mimetype": "text/x-python",
   "name": "python",
   "nbconvert_exporter": "python",
   "pygments_lexer": "ipython3",
   "version": "3.8.5"
  }
 },
 "nbformat": 4,
 "nbformat_minor": 4
}
