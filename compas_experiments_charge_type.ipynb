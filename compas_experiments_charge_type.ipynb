{
 "cells": [
  {
   "cell_type": "code",
   "execution_count": 1,
   "source": [
    "# Data preprocessing\n",
    "\n",
    "import csv\n",
    "from hypothesis_test import *\n",
    "from kardis_test import *\n",
    "from mg_calculator import *\n",
    "from q_finder import *\n",
    "from graph_distributions import *\n",
    "\n",
    "\"\"\"----------------------------------------Process Charges Data-------------------------------------------------\"\"\"\n",
    "\n",
    "file = open(r\"Datasets/people.csv\", mode='r', encoding='utf-8-sig')\n",
    "csvreader = csv.reader(file)\n",
    "rowlist = [row for row in csvreader]\n",
    "for category in rowlist[0]:\n",
    "    index = rowlist[0].index(category)\n",
    "    exec(category + \" = [row[index] for row in rowlist[1:]]\")\n",
    "file.close()\n",
    "\n",
    "battery_ids = [int(id[x]) for x in range(len(id)) if c_charge_desc[x] == 'Battery']\n",
    "battery_races = [race[x-1] for x in battery_ids]\n",
    "\n",
    "#this groups together all instances of possession of contraband that are not 'aggravated'. \n",
    "possession_ids = [int(id[x]) for x in range(len(id)) if ('Possession' in c_charge_desc[x]) and \\\n",
    "                  (not \"Aggravated\" in c_charge_desc[x])]\n",
    "possession_races = [race[x-1] for x in possession_ids]\n",
    "\n",
    "file = open(r\"Datasets/compas.csv\", mode='r', encoding='utf-8-sig')\n",
    "csvreader = csv.reader(file)\n",
    "rowlist = [row for row in csvreader]\n",
    "for category in rowlist[0]:\n",
    "    index = rowlist[0].index(category)\n",
    "    exec(category + \" = [row[index] for row in rowlist[1:]]\")\n",
    "file.close()\n",
    "\n",
    "#the -1 *3 +2 is to selectively take the recidivism scores. \n",
    "battery_scores = [score_text[(x-1)*3+2] for x in battery_ids]\n",
    "possession_scores = [score_text[(x-1)*3+2] for x in possession_ids]"
   ],
   "outputs": [],
   "metadata": {}
  },
  {
   "cell_type": "code",
   "execution_count": 2,
   "source": [
    "# Battery Test\n",
    "recid_races_and_scores = list(filter(lambda x: not x[1] == 'N/A', list(zip(battery_races,battery_scores))))\n",
    "white_count = len(list(filter(lambda x: x[0] == 'Caucasian', recid_races_and_scores)))\n",
    "white_props = [recid_races_and_scores.count(('Caucasian','High'))/white_count, \\\n",
    "                recid_races_and_scores.count(('Caucasian', 'Medium'))/white_count, \\\n",
    "                recid_races_and_scores.count(('Caucasian', 'Low'))/white_count]\n",
    "AA_scores = list(filter(lambda x: x[0] == 'African-American', recid_races_and_scores))\n",
    "\n",
    "print(\"Null hypothesis (proposed distribution): \" + str(white_props) + \"\\n\")\n",
    "\n",
    "hypothesis_test(AA_scores,\\\n",
    "                [('African-American','High'),('African-American','Medium'),('African-American','Low')],\\\n",
    "                alpha = 0.05, hypothesis = white_props)"
   ],
   "outputs": [
    {
     "output_type": "stream",
     "name": "stdout",
     "text": [
      "Null hypothesis (proposed distribution): [0.06714285714285714, 0.1457142857142857, 0.7871428571428571]\n",
      "\n",
      "Proposed distribution not rejected at alpha = 0.05. Kardis = 74.7364156425674.\n"
     ]
    },
    {
     "output_type": "execute_result",
     "data": {
      "text/plain": [
       "(mpf('74.736415642567351'), False)"
      ]
     },
     "metadata": {},
     "execution_count": 2
    }
   ],
   "metadata": {}
  },
  {
   "cell_type": "code",
   "execution_count": 3,
   "source": [
    "#Possession Test\n",
    "recid_races_and_scores = list(filter(lambda x: not x[1] == 'N/A', list(zip(possession_races,possession_scores))))\n",
    "white_count = len(list(filter(lambda x: x[0] == 'Caucasian', recid_races_and_scores)))\n",
    "white_props = [recid_races_and_scores.count(('Caucasian','High'))/white_count, \\\n",
    "                recid_races_and_scores.count(('Caucasian', 'Medium'))/white_count, \\\n",
    "                recid_races_and_scores.count(('Caucasian', 'Low'))/white_count]\n",
    "AA_scores = list(filter(lambda x: x[0] == 'African-American', recid_races_and_scores))\n",
    "\n",
    "print(\"Null hypothesis (proposed distribution): \" + str(white_props) + \"\\n\")\n",
    "\n",
    "hypothesis_test(AA_scores,\\\n",
    "                [('African-American','High'),('African-American','Medium'),('African-American','Low')],\\\n",
    "                alpha = 0.05, hypothesis = white_props)"
   ],
   "outputs": [
    {
     "output_type": "stream",
     "name": "stdout",
     "text": [
      "Null hypothesis (proposed distribution): [0.07407407407407407, 0.14074074074074075, 0.7851851851851852]\n",
      "\n",
      "Proposed distribution not rejected at alpha = 0.05. Kardis = 256.158496571993.\n"
     ]
    },
    {
     "output_type": "execute_result",
     "data": {
      "text/plain": [
       "(mpf('256.15849657199323'), False)"
      ]
     },
     "metadata": {},
     "execution_count": 3
    }
   ],
   "metadata": {}
  }
 ],
 "metadata": {
  "kernelspec": {
   "name": "python3",
   "display_name": "Python 3.8.3 64-bit ('base': conda)"
  },
  "language_info": {
   "codemirror_mode": {
    "name": "ipython",
    "version": 3
   },
   "file_extension": ".py",
   "mimetype": "text/x-python",
   "name": "python",
   "nbconvert_exporter": "python",
   "pygments_lexer": "ipython3",
   "version": "3.8.3"
  },
  "interpreter": {
   "hash": "245fd77b2da67ed7158ba12af3109599f966667ad00cbe050ff303900156d094"
  }
 },
 "nbformat": 4,
 "nbformat_minor": 5
}