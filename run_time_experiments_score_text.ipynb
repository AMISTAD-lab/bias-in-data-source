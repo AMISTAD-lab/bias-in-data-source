{
 "cells": [
  {
   "cell_type": "code",
   "execution_count": 17,
   "metadata": {},
   "outputs": [],
   "source": [
    "import pandas as pd\n",
    "from random import choices\n",
    "import scipy.stats as st\n",
    "import plotly.io\n",
    "import plotly.graph_objects as go\n",
    "from hypothesis_test import *\n",
    "from kardis_test import *\n",
    "from mg_calculator import *\n",
    "from q_finder import *"
   ]
  },
  {
   "cell_type": "code",
   "execution_count": 18,
   "metadata": {},
   "outputs": [
    {
     "data": {
      "text/plain": [
       "(11757, 47)"
      ]
     },
     "execution_count": 18,
     "metadata": {},
     "output_type": "execute_result"
    }
   ],
   "source": [
    "# Data preprocessing\n",
    "df = pd.read_csv(r'Datasets/compas-scores.csv')\n",
    "df = df[df['score_text'] != 'N/A']\n",
    "df.shape"
   ]
  },
  {
   "cell_type": "code",
   "execution_count": null,
   "metadata": {},
   "outputs": [],
   "source": [
    "value_list = ['High', 'Medium', 'Low']\n",
    "AA_score_texts = df[df['race'] == 'African-American']['score_text'].tolist()\n",
    "AA_score_texts_props = [AA_score_texts.count(i)/len(AA_score_texts) for i in value_list]\n",
    "extrapolated_AA_score_texts = list(choices(value_list, AA_score_texts_props, k=10**6))\n",
    "white_score_texts = df[df['race'] == 'Caucasian']['score_text'].tolist()\n",
    "\n",
    "data = extrapolated_AA_score_texts\n",
    "alpha = 0.05\n",
    "hypothesis = [white_score_texts.count(i)/len(white_score_texts) for i in value_list]\n",
    "\n",
    "time = %timeit -n 1 -r 1 -o hypothesis_test_silent(data, value_list, alpha, hypothesis)"
   ]
  }
 ],
 "metadata": {
  "kernelspec": {
   "display_name": "Python 3",
   "language": "python",
   "name": "python3"
  },
  "language_info": {
   "codemirror_mode": {
    "name": "ipython",
    "version": 3
   },
   "file_extension": ".py",
   "mimetype": "text/x-python",
   "name": "python",
   "nbconvert_exporter": "python",
   "pygments_lexer": "ipython3",
   "version": "3.8.5"
  }
 },
 "nbformat": 4,
 "nbformat_minor": 4
}
