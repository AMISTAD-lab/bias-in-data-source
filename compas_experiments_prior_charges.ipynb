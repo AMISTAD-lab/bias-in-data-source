{
 "cells": [
  {
   "cell_type": "code",
   "execution_count": 3,
   "source": [
    "# Data preprocessing\n",
    "\n",
    "import csv\n",
    "from hypothesis_test import *\n",
    "from kardis_test import *\n",
    "from mg_calculator import *\n",
    "from q_finder import *\n",
    "from graph_distributions import *\n",
    "\n",
    "\"\"\"----------------------------------------Process Priors Data--------------------------------------------------\"\"\"\n",
    "#0 denotes no priors. le5 denotes greater than 0 but less than equal to 5 priors. gt5 denotes greater than 5 priors\n",
    "#Priors = 0 \n",
    "\n",
    "file = open(r\"Datasets/people.csv\", mode='r', encoding='utf-8-sig')\n",
    "csvreader = csv.reader(file)\n",
    "rowlist = [row for row in csvreader]\n",
    "for category in rowlist[0]:\n",
    "    index = rowlist[0].index(category)\n",
    "    exec(category + \" = [row[index] for row in rowlist[1:]]\")\n",
    "file.close()\n",
    "\n",
    "priors_0_ids = [int(id[x]) for x in range(len(id)) if int(priors_count[x]) == 0]\n",
    "priors_0_races = [race[x-1] for x in priors_0_ids]\n",
    "\n",
    "priors_le5_ids = [int(id[x]) for x in range(len(id)) if 0 < int(priors_count[x]) <= 5]\n",
    "priors_le5_races = [race[x-1] for x in priors_le5_ids]\n",
    "\n",
    "priors_gt5_ids = [int(id[x]) for x in range(len(id)) if int(priors_count[x]) > 5]\n",
    "priors_gt5_races = [race[x-1] for x in priors_gt5_ids]\n",
    "\n",
    "file = open(r\"Datasets/compas.csv\", mode='r', encoding='utf-8-sig')\n",
    "csvreader = csv.reader(file)\n",
    "rowlist = [row for row in csvreader]\n",
    "for category in rowlist[0]:\n",
    "    index = rowlist[0].index(category)\n",
    "    exec(category + \" = [row[index] for row in rowlist[1:]]\")\n",
    "file.close()\n",
    "\n",
    "priors_0_scores = [score_text[(x-1)*3+2] for x in priors_0_ids]\n",
    "priors_le5_scores = [score_text[(x-1)*3+2] for x in priors_le5_ids]\n",
    "priors_gt5_scores = [score_text[(x-1)*3+2] for x in priors_gt5_ids]"
   ],
   "outputs": [],
   "metadata": {}
  },
  {
   "cell_type": "code",
   "execution_count": 4,
   "source": [
    "#0 Priors Test\n",
    "recid_races_and_scores = list(filter(lambda x: not x[1] == 'N/A', list(zip(priors_0_races,priors_0_scores))))\n",
    "white_count = len(list(filter(lambda x: x[0] == 'Caucasian', recid_races_and_scores)))\n",
    "white_props = [recid_races_and_scores.count(('Caucasian','High'))/white_count, \\\n",
    "                recid_races_and_scores.count(('Caucasian', 'Medium'))/white_count, \\\n",
    "                recid_races_and_scores.count(('Caucasian', 'Low'))/white_count]\n",
    "AA_scores = list(filter(lambda x: x[0] == 'African-American', recid_races_and_scores))\n",
    "\n",
    "print(\"Null hypothesis (proposed distribution): \" + str(white_props) + \"\\n\")\n",
    "\n",
    "hypothesis_test(AA_scores,\\\n",
    "                [('African-American','High'),('African-American','Medium'),('African-American','Low')],\\\n",
    "                alpha = 0.05, hypothesis = white_props)"
   ],
   "outputs": [
    {
     "output_type": "stream",
     "name": "stdout",
     "text": [
      "Null hypothesis (proposed distribution): [0.07247259439707673, 0.1540803897685749, 0.7734470158343484]\n",
      "\n",
      "Proposed distribution not rejected at alpha = 0.05. Kardis = 26.803472612354.\n"
     ]
    },
    {
     "output_type": "execute_result",
     "data": {
      "text/plain": [
       "(mpf('26.803472612354046'), False)"
      ]
     },
     "metadata": {},
     "execution_count": 4
    }
   ],
   "metadata": {}
  },
  {
   "cell_type": "code",
   "execution_count": 16,
   "source": [
    "#<=5 Priors Test\n",
    "recid_races_and_scores = list(filter(lambda x: not x[1] == 'N/A', list(zip(priors_le5_races,priors_le5_scores))))\n",
    "white_count = len(list(filter(lambda x: x[0] == 'Caucasian', recid_races_and_scores)))\n",
    "white_props = [recid_races_and_scores.count(('Caucasian','High'))/white_count, \\\n",
    "                recid_races_and_scores.count(('Caucasian', 'Medium'))/white_count, \\\n",
    "                recid_races_and_scores.count(('Caucasian', 'Low'))/white_count]\n",
    "AA_scores = list(filter(lambda x: x[0] == 'African-American', recid_races_and_scores))\n",
    "\n",
    "print(\"Null hypothesis (proposed distribution): \" + str(white_props) + \"\\n\")\n",
    "\n",
    "hypothesis_test(AA_scores,\\\n",
    "                [('African-American','High'),('African-American','Medium'),('African-American','Low')],\\\n",
    "                alpha = 0.05, hypothesis = white_props)"
   ],
   "outputs": [
    {
     "output_type": "stream",
     "name": "stdout",
     "text": [
      "Null hypothesis (proposed distribution): [0.07168831168831169, 0.15012987012987014, 0.7781818181818182]\n",
      "\n",
      "Proposed distribution not rejected at alpha = 0.05. Kardis = 317.002692023102.\n"
     ]
    },
    {
     "output_type": "execute_result",
     "data": {
      "text/plain": [
       "(mpf('317.0026920231017'), False)"
      ]
     },
     "metadata": {},
     "execution_count": 16
    }
   ],
   "metadata": {}
  },
  {
   "cell_type": "code",
   "execution_count": 17,
   "source": [
    "#>5 Priors test\n",
    "recid_races_and_scores = list(filter(lambda x: not x[1] == 'N/A', list(zip(priors_gt5_races,priors_gt5_scores))))\n",
    "white_count = len(list(filter(lambda x: x[0] == 'Caucasian', recid_races_and_scores)))\n",
    "white_props = [recid_races_and_scores.count(('Caucasian','High'))/white_count, \\\n",
    "                recid_races_and_scores.count(('Caucasian', 'Medium'))/white_count, \\\n",
    "                recid_races_and_scores.count(('Caucasian', 'Low'))/white_count]\n",
    "AA_scores = list(filter(lambda x: x[0] == 'African-American', recid_races_and_scores))\n",
    "\n",
    "print(\"Null hypothesis (proposed distribution): \" + str(white_props) + \"\\n\")\n",
    "\n",
    "hypothesis_test(AA_scores,\\\n",
    "                [('African-American','High'),('African-American','Medium'),('African-American','Low')],\\\n",
    "                alpha = 0.05, hypothesis = white_props)"
   ],
   "outputs": [
    {
     "output_type": "stream",
     "name": "stdout",
     "text": [
      "Null hypothesis (proposed distribution): [0.07915057915057915, 0.16216216216216217, 0.7586872586872587]\n",
      "\n",
      "Proposed distribution not rejected at alpha = 0.05. Kardis = 9228.81263017034.\n"
     ]
    },
    {
     "output_type": "execute_result",
     "data": {
      "text/plain": [
       "(mpf('9228.8126301703396'), False)"
      ]
     },
     "metadata": {},
     "execution_count": 17
    }
   ],
   "metadata": {}
  }
 ],
 "metadata": {
  "kernelspec": {
   "name": "python3",
   "display_name": "Python 3.8.3 64-bit ('base': conda)"
  },
  "language_info": {
   "codemirror_mode": {
    "name": "ipython",
    "version": 3
   },
   "file_extension": ".py",
   "mimetype": "text/x-python",
   "name": "python",
   "nbconvert_exporter": "python",
   "pygments_lexer": "ipython3",
   "version": "3.8.3"
  },
  "interpreter": {
   "hash": "245fd77b2da67ed7158ba12af3109599f966667ad00cbe050ff303900156d094"
  }
 },
 "nbformat": 4,
 "nbformat_minor": 5
}