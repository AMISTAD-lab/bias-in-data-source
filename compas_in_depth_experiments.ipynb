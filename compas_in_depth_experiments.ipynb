{
 "cells": [
  {
   "cell_type": "code",
   "execution_count": 10,
   "source": [
    "# Data preprocessing\n",
    "\n",
    "import csv\n",
    "from hypothesis_test import *\n",
    "from kardis_test import *\n",
    "from mg_calculator import *\n",
    "from q_finder import *\n",
    "from graph_distributions import *\n",
    "\n",
    "\"\"\"----------------------------------------Process Charges and Priors Data------------------------------------------------\"\"\"\n",
    "#0 denotes no priors. le5 denotes greater than 0 but less than equal to 5 priors. gt5 denotes greater than 5 priors\n",
    "#Priors = 0 \n",
    "\n",
    "file = open(r\"Datasets/people.csv\", mode='r', encoding='utf-8-sig')\n",
    "csvreader = csv.reader(file)\n",
    "rowlist = [row for row in csvreader]\n",
    "for category in rowlist[0]:\n",
    "    index = rowlist[0].index(category)\n",
    "    exec(category + \" = [row[index] for row in rowlist[1:]]\")\n",
    "file.close()\n",
    "\n",
    "battery_ids = [int(id[x]) for x in range(len(id)) if c_charge_desc[x] == 'Battery']\n",
    "battery_races = [race[x] for x in battery_ids]\n",
    "\n",
    "#this groups together all instances of possession of contraband, sans aggravated assault. \n",
    "possession_ids = [int(id[x]) for x in range(len(id)) if ('Possession' in c_charge_desc[x]) and \\\n",
    "                  (not \"Aggravated\" in c_charge_desc[x])]\n",
    "possession_races = [race[x] for x in possession_ids]\n",
    "\n",
    "priors_0_ids = [int(id[x]) for x in range(len(id)) if int(priors_count[x]) == 0]\n",
    "priors_0_races = [race[x] for x in possession_ids]\n",
    "\n",
    "priors_le5_ids = [int(id[x]) for x in range(len(id)) if 0 < int(priors_count[x]) <= 5]\n",
    "priors_le5_races = [race[x] for x in priors_le5_ids]\n",
    "\n",
    "priors_gt5_ids = [int(id[x]) for x in range(len(id)) if int(priors_count[x]) > 5]\n",
    "priors_gt5_races = [race[x] for x in priors_gt5_ids]\n",
    "\n",
    "file = open(r\"Datasets/compas.csv\", mode='r', encoding='utf-8-sig')\n",
    "csvreader = csv.reader(file)\n",
    "rowlist = [row for row in csvreader]\n",
    "for category in rowlist[0]:\n",
    "    index = rowlist[0].index(category)\n",
    "    exec(category + \" = [row[index] for row in rowlist[1:]]\")\n",
    "file.close()\n",
    "\n",
    "#the -1 *3 +2 is to selectively take the recidivism scores. \n",
    "battery_scores = [score_text[(x-1)*3+2] for x in battery_ids]\n",
    "possession_scores = [score_text[(x-1)*3+2] for x in possession_ids]\n",
    "priors_0_scores = [score_text[(x-1)*3+2] for x in priors_0_ids]\n",
    "priors_le5_scores = [score_text[(x-1)*3+2] for x in priors_le5_ids]\n",
    "priors_gt5_scores = [score_text[(x-1)*3+2] for x in priors_gt5_ids]\n",
    "\n"
   ],
   "outputs": [
    {
     "output_type": "stream",
     "name": "stdout",
     "text": [
      "['Possession of Cocaine', 'Possession of Cannabis', 'Possession Burglary Tools', 'Possession Of Alprazolam', 'Possession Of Alprazolam', 'Possession Of Heroin', 'Possession Of Methamphetamine', 'Possession of Cocaine', 'Possession of Cocaine', 'Possession of Cocaine', 'Possession of Oxycodone', 'Possession of Cocaine', 'Possession of Cocaine', 'Possession of Cocaine', 'Possession Burglary Tools', 'Possession Of Alprazolam', 'Possession Of Methamphetamine', 'Possession of Morphine', 'Possession of Cocaine', 'Possession of Cocaine', 'Possession of Cocaine', 'Possession of Cocaine', 'Possession Of Alprazolam', 'Possession Of Alprazolam', 'Possession of Cannabis', 'Possession of Cocaine', 'Possession of Cocaine', 'Possession of Cocaine', 'Possession of Cocaine', 'Possession of Oxycodone', 'Possession of Cocaine', 'Possession Of Carisoprodol', 'Possession of Cocaine', 'Possession of Cocaine', 'Possession Of Heroin', 'Possession of Cocaine', 'Possession of Cocaine', 'Possession of Cocaine', 'Possession Of Methamphetamine', 'Possession of Cocaine', 'Possession of Cannabis', 'Possession of Oxycodone', 'Possession of Cocaine', 'Possession of Cannabis', 'Possession of Cannabis', 'Possession of Cocaine', 'Possession Burglary Tools', 'Possession of Cocaine', 'Possession of Cocaine', 'Possession of Oxycodone', 'Possession of Cocaine', 'Possession of Cocaine', 'Possession of Cocaine', 'Possession of Cocaine', 'Possession of Cocaine', 'Possession Burglary Tools', 'Possession of Cocaine', 'Possession of Cocaine', 'Possession of Cocaine', 'Possession Of Heroin', 'Possession of Cocaine', 'Possession of Cocaine', 'Possession of Cocaine', 'Possession of Cannabis', 'Possession of Ethylone', 'Possession of Cocaine', 'Possession of Cocaine', 'Possession of Cocaine', 'Possession of Cannabis', 'Possession of Cocaine', 'Possession of Cocaine', 'Possession of Ethylone', 'Possession Of Alprazolam', 'Possession of Cocaine', 'Possession of Cocaine', 'Possession of Cannabis', 'Possession of Cocaine', 'Possession of Cannabis', 'Possession Burglary Tools', 'Possession of Cocaine', 'Possession of Cocaine', 'Possession of Cocaine', 'Possession of Cocaine', 'Possession of Cocaine', 'Possession of Ethylone', 'Possession of Cocaine', 'Possession of Cocaine', 'Possession of Cannabis', 'Possession Of Heroin', 'Possession of Cocaine', 'Possession Of Alprazolam', 'Possession of Cannabis', 'Possession of Cannabis', 'Possession of Cannabis', 'Possession Burglary Tools', 'Possession of Cocaine', 'Possession of Cocaine', 'Possession Burglary Tools', 'Possession of Cocaine', 'Possession of Cocaine', 'Possession of Cocaine', 'Possession of Cocaine', 'Possession of Cocaine', 'Possession of Cocaine', 'Possession of Cocaine', 'Possession Of Heroin', 'Possession of Cocaine', 'Possession of Cocaine', 'Possession of Cocaine', 'Possession of Cocaine', 'Possession of Cocaine', 'Possession Of Alprazolam', 'Possession of Cocaine', 'Possession of Cocaine', 'Possession of Cocaine', 'Possession of Hydrocodone', 'Possession of Cocaine', 'Possession of Cocaine', 'Possession of Cocaine', 'Possession of Cocaine', 'Possession of Cocaine', 'Possession of Cocaine', 'Possession of Cocaine', 'Possession of Cocaine', 'Possession of Cannabis', 'Possession of Cocaine', 'Possession of Hydromorphone', 'Possession of Cocaine', 'Possession of Cocaine', 'Possession of Cocaine', 'Possession of Cocaine', 'Possession of Cannabis', 'Possession of Cocaine', 'Possession of Cocaine', 'Possession of Cocaine', 'Possession of Cocaine', 'Possession Of Fentanyl', 'Possession of Cannabis', 'Possession Of Methamphetamine', 'Possession of Cocaine', 'Possession of Cocaine', 'Possession of Cocaine', 'Possession Of Alprazolam', 'Possession of Cannabis', 'Possession of Cocaine', 'Possession of Cocaine', 'Possession Burglary Tools', 'Possession of Cocaine', 'Possession of Cocaine', 'Possession Burglary Tools', 'Possession of Cocaine', 'Possession of Cocaine', 'Possession Of Methamphetamine', 'Possession of Cocaine', 'Possession of Cocaine', 'Possession Of Alprazolam', 'Possession of Morphine', 'Possession of Cocaine', 'Possession of Cocaine', 'Possession of Cocaine', 'Possession Child Pornography', 'Possession of Cocaine', 'Possession Burglary Tools', 'Possession Of Alprazolam', 'Possession of Cocaine', 'Possession of Cocaine', 'Possession of Cocaine', 'Possession of Ethylone', 'Possession of Cocaine', 'Possession of Cocaine', 'Possession of Cocaine', 'Possession of Cannabis', 'Possession Of Alprazolam', 'Possession of Cocaine', 'Possession of Cocaine', 'Possession of Cocaine', 'Possession of Cocaine', 'Possession of Cocaine', 'Possession of Cocaine', 'Possession Of Heroin', 'Possession of Cocaine', 'Possession of Hydromorphone', 'Possession of Cocaine', 'Possession of Cocaine', 'Possession of Cocaine', 'Possession Of Methamphetamine', 'Possession of Cocaine', 'Possession of Cannabis', 'Possession of Cocaine', 'Possession of Cocaine', 'Possession of Ethylone', 'Possession of Cannabis', 'Possession of Cocaine', 'Possession of Cocaine', 'Possession Of Lorazepam', 'Possession of Oxycodone', 'Possession of Cocaine', 'Possession of Cocaine', 'Possession Of Alprazolam', 'Possession of Cannabis', 'Possession of Ethylone', 'Possession Burglary Tools', 'Possession of Cocaine', 'Possession of Cocaine', 'Possession of Cocaine', 'Possession of Cannabis', 'Possession of Cocaine', 'Possession of Hydrocodone', 'Possession of Cocaine', 'Possession of Oxycodone', 'Possession of Cocaine', 'Possession of Cocaine', 'Possession of Cocaine', 'Possession of Cocaine', 'Possession Of Buprenorphine', 'Possession Burglary Tools', 'Possession of Cannabis', 'Possession Of Alprazolam', 'Possession Burglary Tools', 'Possession of Benzylpiperazine', 'Possession of Cocaine', 'Possession Of Alprazolam', 'Possession of Cocaine', 'Possession of Cocaine', 'Possession of Cannabis', 'Possession of Cannabis', 'Possession of Cannabis', 'Possession of Cocaine', 'Possession Of Methamphetamine', 'Possession of Cocaine', 'Possession Of Alprazolam', 'Possession of Cocaine', 'Possession of Cocaine', 'Possession of Cocaine', 'Possession of Cocaine', 'Possession Of Methamphetamine', 'Possession Burglary Tools', 'Possession of Cocaine', 'Possession of Cocaine', 'Possession of Cocaine', 'Possession of Cocaine', 'Possession of Cocaine', 'Possession of Cannabis', 'Possession of Cocaine', 'Possession of Cocaine', 'Possession of Cocaine', 'Possession of Cocaine', 'Possession of Morphine', 'Possession of Cocaine', 'Possession of Hydrocodone', 'Possession of Cocaine', 'Possession Of Alprazolam', 'Possession of Cocaine', 'Possession of Cocaine', 'Possession of Butylone', 'Possession of Cocaine', 'Possession of Cocaine', 'Possession Of Alprazolam', 'Possession of Cocaine', 'Possession of Cannabis', 'Possession of Cocaine', 'Possession of Cocaine', 'Possession of Cocaine', 'Possession Of Alprazolam', 'Possession Burglary Tools', 'Possession Of Heroin', 'Possession Of Heroin', 'Possession of Cocaine', 'Possession Of Alprazolam', 'Possession of Cocaine', 'Possession of Cocaine', 'Possession of Cocaine', 'Possession of Cocaine', 'Possession of Cocaine', 'Possession of Cocaine', 'Possession of Cocaine', 'Possession of Cocaine', 'Possession of Cocaine', 'Possession Of Methamphetamine', 'Possession of Cocaine', 'Possession Of Heroin', 'Possession Burglary Tools', 'Possession of Cocaine', 'Possession of Cocaine', 'Possession of Cocaine', 'Possession of Cannabis', 'Possession of Cocaine', 'Possession of Cocaine', 'Possession of Cocaine', 'Possession of Cocaine', 'Possession of Cocaine', 'Possession of Cocaine', 'Possession of Cocaine', 'Possession of Cocaine', 'Possession of Cocaine', 'Possession of Cocaine', 'Possession of Cocaine', 'Possession of Cocaine', 'Possession Of Alprazolam', 'Possession Of Alprazolam', 'Possession of Cocaine', 'Possession of Cocaine', 'Possession of Ethylone', 'Possession of Cocaine', 'Possession of Cocaine', 'Possession Of Alprazolam', 'Possession Of Heroin', 'Possession of Cannabis', 'Possession of Cocaine', 'Possession Of Heroin', 'Possession of Cocaine', 'Possession of Cocaine', 'Possession of Cocaine', 'Possession Of Clonazepam', 'Possession of Cocaine', 'Possession of Cocaine', 'Possession of Cocaine', 'Possession of Cannabis', 'Possession of Hydrocodone', 'Possession of Cocaine', 'Possession Of Methamphetamine', 'Possession of Cocaine', 'Possession of Cannabis', 'Possession of Ethylone', 'Possession of Cocaine', 'Possession of Cannabis', 'Possession Of Alprazolam', 'Possession Of Heroin', 'Possession of Cocaine', 'Possession of Cocaine', 'Possession of Cocaine', 'Possession of Cocaine', 'Possession of Cocaine', 'Possession of Cocaine', 'Possession of Cocaine', 'Possession of Cocaine', 'Possession of Cocaine', 'Possession of Cocaine', 'Possession Of Alprazolam', 'Possession of Cocaine', 'Possession of Cocaine', 'Possession of Oxycodone', 'Possession of Oxycodone', 'Possession of Cocaine', 'Possession of Cocaine', 'Possession Burglary Tools', 'Possession of Cocaine', 'Possession of Oxycodone', 'Possession of Hydromorphone', 'Possession Of Alprazolam', 'Possession of Cocaine', 'Possession of Oxycodone', 'Possession Of Buprenorphine', 'Possession of Cocaine', 'Possession of Cocaine', 'Possession of Cocaine', 'Possession Of Methamphetamine', 'Possession of Cocaine', 'Possession of Cocaine', 'Possession of Cocaine', 'Possession Of Diazepam', 'Possession of Oxycodone', 'Possession of Cocaine', 'Possession of Cocaine', 'Possession of Cannabis', 'Possession of Cannabis', 'Possession Of Amphetamine', 'Possession Of Alprazolam', 'Possession of Cannabis', 'Possession of Cocaine', 'Possession of Cocaine', 'Possession of Oxycodone', 'Possession Burglary Tools', 'Possession of Cocaine', 'Possession of Cocaine', 'Possession Of Methamphetamine', 'Possession Of Alprazolam', 'Possession of Cocaine', 'Possession of Cannabis', 'Possession of Cocaine', 'Possession of Cocaine', 'Possession of Cocaine', 'Possession Of Alprazolam', 'Possession Of Alprazolam', 'Possession of Cocaine', 'Possession of Cocaine', 'Possession of Cannabis', 'Possession of Cocaine', 'Possession of Cocaine', 'Possession of Cocaine', 'Possession of Cocaine', 'Possession Of Alprazolam', 'Possession Of Buprenorphine', 'Possession Of Heroin', 'Possession of Codeine', 'Possession Of Methamphetamine', 'Possession of Cocaine', 'Possession Of Heroin', 'Possession of Cocaine', 'Possession of Cocaine', 'Possession of Cocaine', 'Possession of Oxycodone', 'Possession of Cocaine', 'Possession Of Methamphetamine', 'Possession of Cocaine', 'Possession of Hydromorphone', 'Possession Of Alprazolam', 'Possession of Cocaine', 'Possession of Cocaine', 'Possession of Cocaine', 'Possession of Cocaine', 'Possession Of Methamphetamine', 'Possession of Cocaine', 'Possession Of Alprazolam', 'Possession of Cocaine', 'Possession Burglary Tools', 'Possession of Hydromorphone', 'Possession Of Alprazolam', 'Possession of Cocaine', 'Possession Of Alprazolam', 'Possession Of Heroin', 'Possession of Cocaine', 'Possession of Cocaine', 'Possession Of Methamphetamine', 'Possession of Cocaine', 'Possession of Cannabis', 'Possession of Cocaine', 'Possession Of Alprazolam', 'Possession of Hydrocodone', 'Possession of Cocaine', 'Possession of Cannabis', 'Possession of Cocaine', 'Possession of Cocaine', 'Possession of Cocaine', 'Possession of Cocaine', 'Possession of Cocaine', 'Possession of Hydromorphone', 'Possession of Cocaine', 'Possession of Cocaine', 'Possession of Hydrocodone', 'Possession Burglary Tools', 'Possession of Cocaine', 'Possession Of Methamphetamine', 'Possession of Cocaine', 'Possession of Cocaine', 'Possession of Cocaine', 'Possession of Cocaine', 'Possession of Cocaine', 'Possession of Cannabis', 'Possession Burglary Tools', 'Possession of Cannabis', 'Possession of Cocaine', 'Possession of Cocaine', 'Possession of Cocaine', 'Possession of Cocaine', 'Possession of Cocaine', 'Possession Of Alcohol Under 21', 'Possession Burglary Tools', 'Possession of Cocaine', 'Possession of Cocaine', 'Possession of Cocaine', 'Possession of Cocaine', 'Possession of Oxycodone', 'Possession of Cocaine', 'Possession of Cannabis', 'Possession of Cocaine', 'Possession of Cocaine', 'Possession Of Alprazolam', 'Possession of Cocaine', 'Possession of Cannabis', 'Possession of Cocaine', 'Possession Of Heroin', 'Possession of Cocaine', 'Possession Of Phentermine', 'Possession of Cocaine', 'Possession of Oxycodone', 'Possession of Cocaine', 'Possession of Cocaine', 'Possession of Cocaine', 'Possession of Cocaine', 'Possession of Cocaine', 'Possession of Cocaine', 'Possession of Cocaine', 'Possession of Cocaine', 'Possession of Hydromorphone', 'Possession Of 3,4Methylenediox', 'Possession of Cocaine', 'Possession Of Heroin', 'Possession of Cocaine', 'Possession Of Alprazolam', 'Possession Of Alprazolam', 'Possession Of Methamphetamine', 'Possession of Cocaine', 'Possession of Cocaine', 'Possession of Cannabis', 'Possession of Cocaine', 'Possession Burglary Tools', 'Possession of Cocaine', 'Possession Burglary Tools', 'Possession of Cocaine', 'Possession of Cocaine', 'Possession of Cocaine', 'Possession of Cocaine', 'Possession of Cocaine', 'Possession of Cocaine', 'Possession of Cocaine', 'Possession of Cocaine', 'Possession of Cocaine', 'Possession of Cannabis', 'Possession of Cannabis', 'Possession of Hydromorphone', 'Possession of Cocaine', 'Possession of Cannabis', 'Possession of Cocaine', 'Possession of Cocaine', 'Possession of Cocaine', 'Possession of Cocaine', 'Possession of Cocaine', 'Possession of Ethylone', 'Possession of Cocaine', 'Possession Of Heroin', 'Possession of Cocaine', 'Possession of Hydrocodone', 'Possession of Cocaine', 'Possession Of Methamphetamine', 'Possession Of Alprazolam', 'Possession of Cocaine', 'Possession Of Methamphetamine', 'Possession of Cocaine', 'Possession of Hydrocodone', 'Possession of Cocaine', 'Possession of Cocaine', 'Possession Of Alprazolam', 'Possession of Cocaine', 'Possession of Hydromorphone', 'Possession of Cocaine', 'Possession of Cocaine', 'Possession of Oxycodone', 'Possession of Cannabis', 'Possession of Cocaine', 'Possession Of Heroin', 'Possession Of Heroin', 'Possession of Cocaine', 'Possession of Cocaine', 'Possession Of Alprazolam', 'Possession of Cocaine', 'Possession of Cocaine', 'Possession of Cocaine', 'Possession of Cocaine', 'Possession of Cocaine', 'Possession of Cannabis', 'Possession of Cocaine', 'Possession of Cannabis', 'Possession of Cocaine', 'Possession Of Heroin', 'Possession Of Heroin', 'Possession Of Heroin', 'Possession of Cocaine', 'Possession Of Methamphetamine', 'Possession of Cocaine', 'Possession of Cocaine', 'Possession of Cocaine', 'Possession of Hydromorphone', 'Possession of Cocaine', 'Possession Of Alprazolam', 'Possession of Cocaine', 'Possession of Cocaine', 'Possession of Cocaine', 'Possession Of Alprazolam', 'Possession of Cocaine', 'Possession Of Alprazolam', 'Possession of Cocaine', 'Possession of Cocaine', 'Possession of Cocaine', 'Possession Burglary Tools', 'Possession of Cocaine', 'Possession Of Heroin', 'Possession of Codeine', 'Possession of Cocaine', 'Possession of Cannabis', 'Possession of Cocaine', 'Possession of Cocaine', 'Possession Of Methamphetamine', 'Possession of Cocaine', 'Possession Of Amphetamine', 'Possession Of Alprazolam', 'Possession of Oxycodone', 'Possession Of Alprazolam', 'Possession of Cocaine', 'Possession of Cocaine', 'Possession of Cocaine', 'Possession of Cocaine', 'Possession Of Heroin', 'Possession Of Alprazolam', 'Possession Burglary Tools', 'Possession of Cocaine', 'Possession Of Amphetamine', 'Possession of Cocaine', 'Possession of Oxycodone', 'Possession of Cocaine', 'Possession Of Methamphetamine', 'Possession of Cocaine', 'Possession of Cocaine', 'Possession of Cannabis', 'Possession of Cocaine', 'Possession of Cannabis', 'Possession of Cocaine', 'Possession of Cannabis', 'Possession of Cocaine', 'Possession of Cocaine', 'Possession of Cocaine', 'Possession of Cocaine', 'Possession of Cocaine', 'Possession of Cannabis', 'Possession Of Methamphetamine', 'Possession Of Heroin', 'Possession of Cocaine', 'Possession of Cannabis', 'Possession Of Heroin', 'Possession of Cocaine', 'Possession of Cocaine', 'Possession of Cocaine', 'Possession of Cocaine', 'Possession of Cocaine', 'Possession of Cocaine', 'Possession of Cocaine', 'Possession of Cocaine', 'Possession of Cocaine', 'Possession of Cocaine', 'Possession of Cocaine', 'Possession of Cocaine', 'Possession of Cocaine', 'Possession of Cocaine', 'Possession of Cannabis', 'Possession Of Methamphetamine', 'Possession of Cocaine', 'Possession of Cocaine', 'Possession of Cannabis', 'Possession Of Alprazolam', 'Possession of Cocaine', 'Possession Burglary Tools', 'Possession of Cocaine', 'Possession Of Amphetamine', 'Possession Of Heroin', 'Possession of Cocaine', 'Possession of Cocaine', 'Possession Of Alprazolam', 'Possession of Cocaine', 'Possession Of Alprazolam', 'Possession of Cocaine', 'Possession of Cocaine', 'Possession Of Alprazolam', 'Possession of Cocaine', 'Possession Of Methamphetamine', 'Possession of Cocaine', 'Possession Of Amphetamine', 'Possession of Cannabis', 'Possession of Cannabis', 'Possession of Methadone', 'Possession Of Heroin', 'Possession of LSD', 'Possession of Cocaine', 'Possession of Cocaine', 'Possession of Cocaine', 'Possession of Cocaine', 'Possession of Cocaine', 'Possession of Oxycodone', 'Possession of Cocaine', 'Possession of Cocaine', 'Possession of Hydrocodone', 'Possession of Cocaine', 'Possession of Cocaine', 'Possession of Cocaine', 'Possession of Cocaine', 'Possession of Morphine', 'Possession of Cannabis', 'Possession of Cocaine', 'Possession of Cocaine', 'Possession Of Cocaine', 'Possession of Cocaine', 'Possession of Hydrocodone', 'Possession of Cocaine', 'Possession of Cocaine', 'Possession of Cocaine', 'Possession Of Alprazolam', 'Possession of Cocaine', 'Possession of Hydrocodone', 'Possession of Cocaine', 'Possession of Cocaine', 'Possession of Cocaine', 'Possession of Cocaine', 'Possession of Cocaine', 'Possession of Cocaine', 'Possession of Cocaine', 'Possession of Cocaine', 'Possession of Cocaine', 'Possession of Cocaine', 'Possession Of Methamphetamine', 'Possession Of Heroin', 'Possession Child Pornography', 'Possession of Cocaine', 'Possession of Cannabis', 'Possession of Cocaine', 'Possession of Cocaine', 'Possession of Cocaine', 'Possession of Oxycodone', 'Possession of Cocaine', 'Possession of Cannabis', 'Possession of Cocaine', 'Possession of Hydrocodone', 'Possession of Cannabis', 'Possession of Cocaine', 'Possession of Cocaine', 'Possession of Cocaine', 'Possession Burglary Tools', 'Possession of Cocaine', 'Possession of Cocaine', 'Possession of Cocaine', 'Possession of Cannabis', 'Possession of Hydromorphone', 'Possession of Cocaine', 'Possession Of Alprazolam', 'Possession Of Heroin', 'Possession of Cocaine', 'Possession of Cocaine', 'Possession Burglary Tools', 'Possession of Cocaine', 'Possession of Cocaine', 'Possession Burglary Tools', 'Possession Of MDMA W/I/D/S', 'Possession of Cocaine', 'Possession of Cocaine', 'Possession of Cocaine', 'Possession Burglary Tools', 'Possession Of Amphetamine', 'Possession of Cocaine', 'Possession of Cocaine', 'Possession of Cocaine', 'Possession of Cannabis', 'Possession of Cannabis', 'Possession of Hydromorphone', 'Possession Of Alprazolam', 'Possession of Oxycodone', 'Possession of Cannabis', 'Possession of Cocaine', 'Possession of Cocaine', 'Possession of Cocaine', 'Possession of Cocaine', 'Possession of Cocaine', 'Possession of Oxycodone', 'Possession of Oxycodone', 'Possession of Cocaine', 'Possession of Cannabis', 'Possession of Cocaine', 'Possession of Cocaine', 'Possession of Cocaine', 'Possession Of Heroin', 'Possession of Cocaine', 'Possession of Cocaine', 'Possession of Cocaine', 'Possession of Cocaine', 'Possession of Cannabis', 'Possession of Morphine', 'Possession of Cocaine', 'Possession of Cocaine', 'Possession of Cocaine', 'Possession of Cocaine', 'Possession of Oxycodone', 'Possession of Cocaine', 'Possession Burglary Tools', 'Possession of Cocaine', 'Possession of Cocaine', 'Possession of Cocaine', 'Possession of Cocaine', 'Possession of Cocaine', 'Possession of Cocaine', 'Possession Of Alprazolam', 'Possession Of Alprazolam', 'Possession of Cocaine', 'Possession Of Alprazolam', 'Possession of Cocaine', 'Possession of Cocaine', 'Possession of Benzylpiperazine', 'Possession Of Alprazolam', 'Possession of Cannabis', 'Possession Of Fentanyl', 'Possession of Cocaine', 'Possession of Cocaine', 'Possession of Cocaine', 'Possession of Cocaine', 'Possession of Cocaine', 'Possession of Cocaine', 'Possession Of Heroin', 'Possession of Cocaine', 'Possession of Cocaine', 'Possession of Cannabis', 'Possession of Cocaine', 'Possession of Hydromorphone', 'Possession of Oxycodone', 'Possession of Cocaine', 'Possession of Cocaine', 'Possession of Cannabis', 'Possession of Cannabis', 'Possession of Ethylone', 'Possession of Oxycodone', 'Possession of Morphine', 'Possession of Cocaine', 'Possession of Cocaine', 'Possession Of Paraphernalia', 'Possession Of Alprazolam', 'Possession of Cocaine', 'Possession of Cannabis', 'Possession of Cocaine', 'Possession of Ethylone', 'Possession of Cannabis', 'Possession of Cocaine', 'Possession of Cocaine', 'Possession Of Heroin', 'Possession Of Methamphetamine', 'Possession of Alcohol Under 21', 'Possession of Cocaine', 'Possession of Cocaine', 'Possession of Cocaine', 'Possession of Cocaine', 'Possession of Cocaine', 'Possession Of Alprazolam', 'Possession Of Alprazolam', 'Possession of Cocaine', 'Possession of Cocaine', 'Possession of Cannabis', 'Possession of Cocaine', 'Possession of Cocaine', 'Possession of Cannabis', 'Possession of Cocaine', 'Possession of Cocaine', 'Possession of Cocaine', 'Possession of Cocaine', 'Possession of Cocaine', 'Possession of Oxycodone', 'Possession of Cocaine', 'Possession of Cocaine', 'Possession Of Amphetamine', 'Possession Of Alprazolam', 'Possession of Cocaine', 'Possession Of Methamphetamine', 'Possession Of Oxymorphone', 'Possession Firearm School Prop', 'Possession of Cocaine', 'Possession of Cocaine', 'Possession of Cocaine', 'Possession of Cocaine', 'Possession of Cocaine', 'Possession of Cocaine', 'Possession Of Amphetamine', 'Possession of Hydromorphone', 'Possession Of Heroin', 'Possession of Cocaine', 'Possession of Oxycodone', 'Possession of Oxycodone', 'Possession of Cocaine', 'Possession of Cocaine', 'Possession of Cocaine', 'Possession of Cocaine', 'Possession of Cocaine', 'Possession Of Heroin', 'Possession of Cocaine', 'Possession Child Pornography', 'Possession of Cocaine', 'Possession of LSD', 'Possession of Cocaine', 'Possession of Oxycodone', 'Possession of Cocaine', 'Possession of Cocaine', 'Possession Of Heroin', 'Possession of Cocaine', 'Possession of Cocaine', 'Possession of Cannabis', 'Possession Of Heroin', 'Possession of Cocaine', 'Possession of Cocaine', 'Possession of Cocaine', 'Possession of Cocaine', 'Possession Of Alprazolam', 'Possession Burglary Tools', 'Possession of Cocaine', 'Possession of Cocaine', 'Possession of Cocaine', 'Possession of Cocaine', 'Possession of Cocaine', 'Possession of Cannabis', 'Possession of Cocaine', 'Possession of Cocaine', 'Possession of Cocaine', 'Possession Of Methamphetamine', 'Possession of Cocaine', 'Possession Burglary Tools', 'Possession of Cocaine', 'Possession of Cocaine', 'Possession of Cocaine', 'Possession of Cocaine', 'Possession of Cocaine', 'Possession of Cocaine', 'Possession of LSD', 'Possession Burglary Tools', 'Possession of Cocaine', 'Possession of Cannabis', 'Possession of Cocaine', 'Possession of Cocaine', 'Possession Of Methamphetamine', 'Possession of Cocaine', 'Possession of Cocaine', 'Possession of Cocaine', 'Possession of Cocaine', 'Possession of Cocaine', 'Possession Of Alprazolam', 'Possession of Cocaine', 'Possession of Cannabis', 'Possession of Cocaine', 'Possession of Hydromorphone', 'Possession of Cocaine', 'Possession of Hydromorphone', 'Possession Of Alprazolam', 'Possession of Cocaine', 'Possession of Cocaine', 'Possession of Cocaine', 'Possession of Cocaine', 'Possession of Cocaine', 'Possession of Cocaine', 'Possession of Cocaine', 'Possession of Cocaine', 'Possession of Hydrocodone', 'Possession of Cocaine', 'Possession of Methadone', 'Possession of Cocaine', 'Possession of Cannabis', 'Possession of Cocaine', 'Possession Of Methamphetamine', 'Possession of Cocaine', 'Possession of Cocaine', 'Possession of Cannabis', 'Possession of Cocaine', 'Possession of Cocaine', 'Possession of Cocaine', 'Possession Of Alprazolam', 'Possession of Cannabis', 'Possession Of Methamphetamine', 'Possession of Cocaine', 'Possession of Cocaine', 'Possession of Cocaine', 'Possession of Cocaine', 'Possession of Cocaine', 'Possession of Cocaine', 'Possession of Oxycodone', 'Possession of Cannabis', 'Possession of Cocaine', 'Possession of Cocaine', 'Possession Of Alprazolam', 'Possession Of Methamphetamine', 'Possession of Cocaine', 'Possession of Cocaine', 'Possession of Cocaine', 'Possession of Hydromorphone', 'Possession of Oxycodone', 'Possession of Cocaine', 'Possession Child Pornography', 'Possession of Cannabis', 'Possession of Cocaine', 'Possession of Cocaine', 'Possession of Cocaine', 'Possession Of Alprazolam', 'Possession of Cocaine', 'Possession Of Methamphetamine', 'Possession of Cocaine', 'Possession of Cocaine', 'Possession of Cannabis', 'Possession of Cocaine', 'Possession of Cocaine', 'Possession of Cocaine', 'Possession Of Methamphetamine', 'Possession of Cocaine', 'Possession of Cocaine', 'Possession of Cocaine', 'Possession of Cocaine', 'Possession Of Alprazolam', 'Possession of Cannabis', 'Possession of Cocaine', 'Possession of Cocaine', 'Possession of Cocaine', 'Possession of Cannabis', 'Possession of Cannabis', 'Possession of Cocaine', 'Possession of Cocaine', 'Possession Burglary Tools', 'Possession Of Methamphetamine', 'Possession of Cocaine', 'Possession of Cannabis', 'Possession of Methadone', 'Possession of Cocaine', 'Possession of Cocaine', 'Possession Burglary Tools', 'Possession of Cannabis', 'Possession of Cocaine', 'Possession Of Clonazepam', 'Possession Of Heroin', 'Possession of Oxycodone', 'Possession of Cocaine', 'Possession of Cocaine', 'Possession of Cocaine', 'Possession Of Heroin', 'Possession of Hydrocodone', 'Possession Of Methamphetamine', 'Possession of Cocaine', 'Possession of Cocaine', 'Possession of Cannabis', 'Possession Of Lorazepam', 'Possession of Cocaine', 'Possession of Hydrocodone', 'Possession of Hydromorphone', 'Possession Of Alprazolam', 'Possession Burglary Tools', 'Possession of Cannabis', 'Possession of Cocaine', 'Possession of Cocaine', 'Possession Burglary Tools', 'Possession Of Alprazolam', 'Possession of Cocaine', 'Possession Of Methamphetamine', 'Possession Burglary Tools', 'Possession of Cocaine', 'Possession Of Alprazolam', 'Possession of Cocaine', 'Possession of Cocaine', 'Possession of Cocaine', 'Possession of Cocaine', 'Possession of Codeine', 'Possession of Oxycodone', 'Possession Of Carisoprodol', 'Possession of Cocaine', 'Possession of Oxycodone', 'Possession of Cocaine', 'Possession of Cocaine', 'Possession of Cocaine', 'Possession Of Amphetamine', 'Possession of Cannabis', 'Possession of Cocaine', 'Possession of Hydrocodone', 'Possession Of Alprazolam', 'Possession Of Alprazolam', 'Possession of Oxycodone', 'Possession of Cocaine', 'Possession Of Heroin', 'Possession of Cocaine', 'Possession of Cocaine', 'Possession of Cocaine', 'Possession of Cocaine', 'Possession of Cocaine', 'Possession Of Anabolic Steroid', 'Possession of Oxycodone', 'Possession of Cocaine', 'Possession of Cocaine', 'Possession of Ethylone', 'Possession Of Heroin', 'Possession Of Diazepam', 'Possession of Cocaine', 'Possession Of Alprazolam', 'Possession Of Alprazolam', 'Possession of Cocaine', 'Possession of Oxycodone', 'Possession of Cocaine', 'Possession of Cocaine', 'Possession of Cannabis', 'Possession of Cocaine', 'Possession of Cocaine', 'Possession Burglary Tools', 'Possession of Cocaine', 'Possession of Cocaine', 'Possession of Cocaine', 'Possession of Cannabis', 'Possession Burglary Tools', 'Possession of Cocaine', 'Possession of Cocaine', 'Possession of Cocaine', 'Possession of Cocaine', 'Possession of Cocaine', 'Possession of Cocaine', 'Possession Of Methamphetamine', 'Possession of Cocaine', 'Possession Child Pornography', 'Possession of Cocaine', 'Possession of Cocaine', 'Possession Of Heroin', 'Possession of Cocaine', 'Possession of Cannabis', 'Possession of Cocaine', 'Possession of Hydromorphone', 'Possession of Cocaine', 'Possession of Cocaine', 'Possession Of Heroin', 'Possession of Cocaine', 'Possession of XLR11', 'Possession of Cannabis', 'Possession Of Methamphetamine', 'Possession of Cocaine', 'Possession of Cocaine', 'Possession of Ethylone', 'Possession of Cocaine', 'Possession of Cocaine', 'Possession of Oxycodone', 'Possession of Cocaine', 'Possession Of Heroin', 'Possession of Cocaine', 'Possession of Cocaine', 'Possession of Oxycodone', 'Possession of Hydromorphone', 'Possession of Cocaine', 'Possession Burglary Tools', 'Possession of Cocaine', 'Possession of Cocaine', 'Possession of Cannabis', 'Possession of Cocaine', 'Possession Of Heroin', 'Possession Burglary Tools', 'Possession of Cocaine', 'Possession of Cocaine', 'Possession of Cocaine', 'Possession of Cannabis', 'Possession of Cannabis', 'Possession of Cocaine', 'Possession of Cocaine', 'Possession of Cocaine', 'Possession of Cocaine', 'Possession Burglary Tools', 'Possession of Hydrocodone', 'Possession of Cocaine', 'Possession of Cocaine', 'Possession of Cocaine', 'Possession of Cocaine', 'Possession Of Amphetamine', 'Possession of Cocaine', 'Possession of Cocaine', 'Possession of Hydromorphone', 'Possession Of Methamphetamine', 'Possession of Cocaine', 'Possession Of Heroin', 'Possession of XLR11', 'Possession Of Oxymorphone', 'Possession of Cocaine', 'Possession of Cocaine', 'Possession of Cocaine', 'Possession Burglary Tools', 'Possession of Cannabis', 'Possession Of Alprazolam', 'Possession of Cocaine', 'Possession of Cocaine', 'Possession of Cannabis', 'Possession Of Heroin', 'Possession of Cocaine', 'Possession of Oxycodone', 'Possession Of 3,4Methylenediox', 'Possession of Morphine', 'Possession Of Alprazolam', 'Possession of Cocaine', 'Possession of Cocaine', 'Possession of Cocaine', 'Possession of Cocaine', 'Possession of Cocaine', 'Possession of Cannabis', 'Possession Of Heroin', 'Possession of Cocaine', 'Possession of Oxycodone', 'Possession of Cocaine', 'Possession of Cocaine', 'Possession of Methadone', 'Possession of Cannabis', 'Possession of Cocaine', 'Possession of Cocaine', 'Possession of Cocaine', 'Possession of Cocaine', 'Possession of Cocaine', 'Possession of Cocaine', 'Possession of Cocaine', 'Possession of Cannabis', 'Possession Of Methamphetamine', 'Possession of Cocaine', 'Possession of Morphine', 'Possession Of Methamphetamine']\n"
     ]
    }
   ],
   "metadata": {}
  },
  {
   "cell_type": "code",
   "execution_count": 3,
   "source": [
    "# Battery Test\n",
    "recid_races_and_scores = list(filter(lambda x: not x[1] == 'N/A', list(zip(battery_races,battery_scores))))\n",
    "white_count = len(list(filter(lambda x: x[0] == 'Caucasian', recid_races_and_scores)))\n",
    "white_props = [recid_races_and_scores.count(('Caucasian','High'))/white_count, \\\n",
    "                recid_races_and_scores.count(('Caucasian', 'Medium'))/white_count, \\\n",
    "                recid_races_and_scores.count(('Caucasian', 'Low'))/white_count]\n",
    "AA_scores = list(filter(lambda x: x[0] == 'African-American', recid_races_and_scores))\n",
    "\n",
    "print(\"Null hypothesis (proposed distribution): \" + str(white_props) + \"\\n\")\n",
    "\n",
    "hypothesis_test(AA_scores,\\\n",
    "                [('African-American','High'),('African-American','Medium'),('African-American','Low')],\\\n",
    "                alpha = 0.05, hypothesis = white_props)"
   ],
   "outputs": [
    {
     "output_type": "stream",
     "name": "stdout",
     "text": [
      "Null hypothesis (proposed distribution): [0.09090909090909091, 0.15254237288135594, 0.7565485362095532]\n",
      "\n",
      "Proposed distribution not rejected at alpha = 0.05. Kardis = 273.112234394461.\n"
     ]
    },
    {
     "output_type": "execute_result",
     "data": {
      "text/plain": [
       "(mpf('273.11223439446104'), False)"
      ]
     },
     "metadata": {},
     "execution_count": 3
    }
   ],
   "metadata": {}
  },
  {
   "cell_type": "code",
   "execution_count": 4,
   "source": [
    "#Possession Test\n",
    "recid_races_and_scores = list(filter(lambda x: not x[1] == 'N/A', list(zip(possession_races,possession_scores))))\n",
    "white_count = len(list(filter(lambda x: x[0] == 'Caucasian', recid_races_and_scores)))\n",
    "white_props = [recid_races_and_scores.count(('Caucasian','High'))/white_count, \\\n",
    "                recid_races_and_scores.count(('Caucasian', 'Medium'))/white_count, \\\n",
    "                recid_races_and_scores.count(('Caucasian', 'Low'))/white_count]\n",
    "AA_scores = list(filter(lambda x: x[0] == 'African-American', recid_races_and_scores))\n",
    "\n",
    "print(\"Null hypothesis (proposed distribution): \" + str(white_props) + \"\\n\")\n",
    "\n",
    "hypothesis_test(AA_scores,\\\n",
    "                [('African-American','High'),('African-American','Medium'),('African-American','Low')],\\\n",
    "                alpha = 0.05, hypothesis = white_props)"
   ],
   "outputs": [
    {
     "output_type": "stream",
     "name": "stdout",
     "text": [
      "Null hypothesis (proposed distribution): [0.08788598574821853, 0.14489311163895488, 0.7672209026128266]\n",
      "\n",
      "Proposed distribution not rejected at alpha = 0.05. Kardis = 1969.27223811894.\n"
     ]
    },
    {
     "output_type": "execute_result",
     "data": {
      "text/plain": [
       "(mpf('1969.272238118939'), False)"
      ]
     },
     "metadata": {},
     "execution_count": 4
    }
   ],
   "metadata": {}
  },
  {
   "cell_type": "code",
   "execution_count": 5,
   "source": [
    "#0 Priors Test\n",
    "recid_races_and_scores = list(filter(lambda x: not x[1] == 'N/A', list(zip(priors_0_races,priors_0_scores))))\n",
    "white_count = len(list(filter(lambda x: x[0] == 'Caucasian', recid_races_and_scores)))\n",
    "white_props = [recid_races_and_scores.count(('Caucasian','High'))/white_count, \\\n",
    "                recid_races_and_scores.count(('Caucasian', 'Medium'))/white_count, \\\n",
    "                recid_races_and_scores.count(('Caucasian', 'Low'))/white_count]\n",
    "AA_scores = list(filter(lambda x: x[0] == 'African-American', recid_races_and_scores))\n",
    "\n",
    "print(\"Null hypothesis (proposed distribution): \" + str(white_props) + \"\\n\")\n",
    "\n",
    "hypothesis_test(AA_scores,\\\n",
    "                [('African-American','High'),('African-American','Medium'),('African-American','Low')],\\\n",
    "                alpha = 0.05, hypothesis = white_props)"
   ],
   "outputs": [
    {
     "output_type": "stream",
     "name": "stdout",
     "text": [
      "Null hypothesis (proposed distribution): [0.0665083135391924, 0.16389548693586697, 0.7695961995249406]\n",
      "\n",
      "Proposed distribution not rejected at alpha = 0.05. Kardis = 2809.20381478302.\n"
     ]
    },
    {
     "output_type": "execute_result",
     "data": {
      "text/plain": [
       "(mpf('2809.2038147830217'), False)"
      ]
     },
     "metadata": {},
     "execution_count": 5
    }
   ],
   "metadata": {}
  },
  {
   "cell_type": "code",
   "execution_count": 6,
   "source": [
    "#<=5 Priors Test\n",
    "recid_races_and_scores = list(filter(lambda x: not x[1] == 'N/A', list(zip(priors_le5_races,priors_le5_scores))))\n",
    "white_count = len(list(filter(lambda x: x[0] == 'Caucasian', recid_races_and_scores)))\n",
    "white_props = [recid_races_and_scores.count(('Caucasian','High'))/white_count, \\\n",
    "                recid_races_and_scores.count(('Caucasian', 'Medium'))/white_count, \\\n",
    "                recid_races_and_scores.count(('Caucasian', 'Low'))/white_count]\n",
    "AA_scores = list(filter(lambda x: x[0] == 'African-American', recid_races_and_scores))\n",
    "\n",
    "print(\"Null hypothesis (proposed distribution): \" + str(white_props) + \"\\n\")\n",
    "\n",
    "hypothesis_test(AA_scores,\\\n",
    "                [('African-American','High'),('African-American','Medium'),('African-American','Low')],\\\n",
    "                alpha = 0.05, hypothesis = white_props)"
   ],
   "outputs": [
    {
     "output_type": "stream",
     "name": "stdout",
     "text": [
      "Null hypothesis (proposed distribution): [0.06993006993006994, 0.16083916083916083, 0.7692307692307693]\n",
      "\n",
      "Proposed distribution not rejected at alpha = 0.05. Kardis = 12657.5955958137.\n"
     ]
    },
    {
     "output_type": "execute_result",
     "data": {
      "text/plain": [
       "(mpf('12657.59559581368'), False)"
      ]
     },
     "metadata": {},
     "execution_count": 6
    }
   ],
   "metadata": {}
  },
  {
   "cell_type": "code",
   "execution_count": 7,
   "source": [
    "#>5 Priors test\n",
    "recid_races_and_scores = list(filter(lambda x: not x[1] == 'N/A', list(zip(priors_gt5_races,priors_gt5_scores))))\n",
    "white_count = len(list(filter(lambda x: x[0] == 'Caucasian', recid_races_and_scores)))\n",
    "white_props = [recid_races_and_scores.count(('Caucasian','High'))/white_count, \\\n",
    "                recid_races_and_scores.count(('Caucasian', 'Medium'))/white_count, \\\n",
    "                recid_races_and_scores.count(('Caucasian', 'Low'))/white_count]\n",
    "AA_scores = list(filter(lambda x: x[0] == 'African-American', recid_races_and_scores))\n",
    "\n",
    "print(\"Null hypothesis (proposed distribution): \" + str(white_props) + \"\\n\")\n",
    "\n",
    "hypothesis_test(AA_scores,\\\n",
    "                [('African-American','High'),('African-American','Medium'),('African-American','Low')],\\\n",
    "                alpha = 0.05, hypothesis = white_props)"
   ],
   "outputs": [
    {
     "output_type": "stream",
     "name": "stdout",
     "text": [
      "Null hypothesis (proposed distribution): [0.0776566757493188, 0.16893732970027248, 0.7534059945504087]\n",
      "\n",
      "Proposed distribution not rejected at alpha = 0.05. Kardis = 11165.1678795278.\n"
     ]
    },
    {
     "output_type": "execute_result",
     "data": {
      "text/plain": [
       "(mpf('11165.167879527762'), False)"
      ]
     },
     "metadata": {},
     "execution_count": 7
    }
   ],
   "metadata": {}
  }
 ],
 "metadata": {
  "interpreter": {
   "hash": "245fd77b2da67ed7158ba12af3109599f966667ad00cbe050ff303900156d094"
  },
  "kernelspec": {
   "name": "python3",
   "display_name": "Python 3.8.3 64-bit ('base': conda)"
  },
  "language_info": {
   "codemirror_mode": {
    "name": "ipython",
    "version": 3
   },
   "file_extension": ".py",
   "mimetype": "text/x-python",
   "name": "python",
   "nbconvert_exporter": "python",
   "pygments_lexer": "ipython3",
   "version": "3.8.3"
  }
 },
 "nbformat": 4,
 "nbformat_minor": 4
}