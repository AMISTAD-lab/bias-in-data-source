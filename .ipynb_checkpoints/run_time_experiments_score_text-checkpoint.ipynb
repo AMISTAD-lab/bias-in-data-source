{
 "cells": [
  {
   "cell_type": "code",
   "execution_count": 1,
   "metadata": {},
   "outputs": [],
   "source": [
    "import pandas as pd\n",
    "from random import choices\n",
    "import scipy.stats as st\n",
    "import plotly.io\n",
    "import plotly.graph_objects as go\n",
    "from hypothesis_test import *\n",
    "from kardis_test import *\n",
    "from mg_calculator import *\n",
    "from q_finder import *"
   ]
  },
  {
   "cell_type": "code",
   "execution_count": 2,
   "metadata": {},
   "outputs": [
    {
     "data": {
      "text/plain": [
       "(11757, 47)"
      ]
     },
     "execution_count": 2,
     "metadata": {},
     "output_type": "execute_result"
    }
   ],
   "source": [
    "# Data preprocessing\n",
    "df = pd.read_csv(r'Datasets/compas-scores.csv')\n",
    "df = df[df['score_text'] != 'N/A']\n",
    "df.shape"
   ]
  },
  {
   "cell_type": "code",
   "execution_count": 3,
   "metadata": {},
   "outputs": [
    {
     "name": "stdout",
     "output_type": "stream",
     "text": [
      "Mean run time and standard deviation: \n",
      "2min 48s ± 14.5 s per loop (mean ± std. dev. of 10 runs, 1 loop each)\n",
      "95% Confidence interval: (2.33, 3.27) mins\n"
     ]
    }
   ],
   "source": [
    "#Setup and Experiments\n",
    "value_list = ['High', 'Medium', 'Low']\n",
    "AA_score_texts = df[df['race'] == 'African-American']['score_text'].tolist()\n",
    "AA_score_texts_props = [AA_score_texts.count(i)/len(AA_score_texts) for i in value_list]\n",
    "extrapolated_AA_score_texts = list(choices(value_list, AA_score_texts_props, k=10**6))\n",
    "white_score_texts = df[df['race'] == 'Caucasian']['score_text'].tolist()\n",
    "\n",
    "data = extrapolated_AA_score_texts\n",
    "alpha = 0.05\n",
    "hypothesis = [white_score_texts.count(i)/len(white_score_texts) for i in value_list]\n",
    "\n",
    "print('Mean run time and standard deviation: ')\n",
    "time = %timeit -n 1 -r 10 -o hypothesis_test_silent(data, value_list, alpha, hypothesis)\n",
    "mean = time.average/60 # Converting from seconds to minutes\n",
    "stdev = time.stdev/60\n",
    "n = 10**6 # Length of extrapolated dataset\n",
    "conf_interval = st.t.interval(0.95, df=n-1, loc=mean, scale=stdev)\n",
    "rounded_conf_interval = tuple(round(i, 2) for i in conf_interval)\n",
    "print('95% Confidence interval: ' + str(rounded_conf_interval) + ' mins')"
   ]
  }
 ],
 "metadata": {
  "kernelspec": {
   "display_name": "Python 3",
   "language": "python",
   "name": "python3"
  },
  "language_info": {
   "codemirror_mode": {
    "name": "ipython",
    "version": 3
   },
   "file_extension": ".py",
   "mimetype": "text/x-python",
   "name": "python",
   "nbconvert_exporter": "python",
   "pygments_lexer": "ipython3",
   "version": "3.8.5"
  }
 },
 "nbformat": 4,
 "nbformat_minor": 4
}
