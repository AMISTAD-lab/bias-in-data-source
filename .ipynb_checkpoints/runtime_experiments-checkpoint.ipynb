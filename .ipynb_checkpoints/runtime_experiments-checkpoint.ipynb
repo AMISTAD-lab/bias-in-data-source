{
 "cells": [
  {
   "cell_type": "code",
   "execution_count": null,
   "metadata": {},
   "outputs": [],
   "source": [
    "# Preprocessing the extrapolated COMPAS dataset\n",
    "\n",
    "import pandas as pd\n",
    "from hypothesis_test import *\n",
    "from kardis_test import *\n",
    "from mg_calculator import *\n",
    "from q_finder import *\n",
    "from data_bin_slicer_multival import *\n",
    "\n",
    "def excel_to_list(filepath,columns):\n",
    "    data = pd.read_excel(filepath) \n",
    "    df = pd.DataFrame(data,columns= columns)\n",
    "    array = df.to_numpy()\n",
    "    data_list = array.tolist()\n",
    "    return data_list\n",
    "\n",
    "filepath = r\"Datasets/compass_extrapolated_100k.xlsx\"\n",
    "columns= ['sex','race']\n",
    "observation = excel_to_list(filepath,columns) \n",
    "if len(observation) == 100000 and type(observation) == list:\n",
    "    print('Data processed successfully.')\n",
    "else:\n",
    "    print('Data processing failed.')"
   ]
  },
  {
   "cell_type": "code",
   "execution_count": null,
   "metadata": {},
   "outputs": [],
   "source": [
    "# Setup and Experiment\n",
    "\n",
    "value_list = [['Male','Caucasian'],['Female','Caucasian'],['Male','African-American'],['Female','African-American'],\n",
    "              ['Male','Hispanic'],['Female','Hispanic'],['Male','Asian'],['Female','Asian'],\n",
    "              ['Male','Other'],['Female','Other']]\n",
    "hypothesis = 10*[1/10] #uniform hypothesis\n",
    "alpha = 0.05 \n",
    "data = observation\n",
    "bins = 1\n",
    "\n",
    "while bins < 10:\n",
    "    selectedvalue = []\n",
    "    for idx in range(bins):\n",
    "        selectedvalue += [value_list[idx]]\n",
    "    ndata, ncounts, nhypothesis, nvaluelist = data_bin_slicer_multival(data, hypothesis, value_list, selectedvalue)\n",
    "    my_time = %timeit -n 1 -r 10 -o hypothesis_test_silent(ndata, nvaluelist, alpha, nhypothesis)\n",
    "    bins += 1"
   ]
  }
 ],
 "metadata": {
  "kernelspec": {
   "display_name": "Python 3",
   "language": "python",
   "name": "python3"
  },
  "language_info": {
   "codemirror_mode": {
    "name": "ipython",
    "version": 3
   },
   "file_extension": ".py",
   "mimetype": "text/x-python",
   "name": "python",
   "nbconvert_exporter": "python",
   "pygments_lexer": "ipython3",
   "version": "3.8.5"
  }
 },
 "nbformat": 4,
 "nbformat_minor": 4
}
