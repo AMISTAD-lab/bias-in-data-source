{
 "cells": [
  {
   "cell_type": "code",
   "execution_count": 1,
   "metadata": {},
   "outputs": [
    {
     "name": "stdout",
     "output_type": "stream",
     "text": [
      "Data processed successfully.\n"
     ]
    }
   ],
   "source": [
    "# Preprocessing the extrapolated COMPAS dataset\n",
    "\n",
    "import csv\n",
    "import random\n",
    "import pandas as pd\n",
    "from hypothesis_test import *\n",
    "from kardis_test import *\n",
    "from mg_calculator import *\n",
    "from q_finder import *\n",
    "\n",
    "file = open(r\"Datasets/compas.csv\", mode='r', encoding='utf-8-sig')\n",
    "csvreader = csv.reader(file)\n",
    "rowlist = [row for row in csvreader]\n",
    "for category in rowlist[0]:\n",
    "    index = rowlist[0].index(category)\n",
    "    exec(category + \" = [row[index] for row in rowlist[1:]]\")\n",
    "file.close()\n",
    "\n",
    "ids = [int(id[x]) for x in range(len(id))] \n",
    "person_id = [int(person_id[x]) for x in range(len(person_id))]\n",
    "\n",
    "file = open(r\"Datasets/people.csv\", mode='r', encoding='utf-8-sig')\n",
    "csvreader = csv.reader(file)\n",
    "rowlist = [row for row in csvreader]\n",
    "for category in rowlist[0]:\n",
    "    index = rowlist[0].index(category)\n",
    "    exec(category + \" = [row[index] for row in rowlist[1:]]\")\n",
    "file.close()\n",
    "\n",
    "idx = 0\n",
    "people_id = [int(id[x]) for x in range(len(id))] \n",
    "races = []\n",
    "sexes = []\n",
    "for x in person_id:\n",
    "    if x == people_id[idx]:\n",
    "        races.append(race[people_id[idx] - 1])\n",
    "        sexes.append(race[people_id[idx] - 1])\n",
    "    else:\n",
    "        idx += 1\n",
    "\n",
    "new_compas = list(filter(lambda x: not x[1] == 'N/A', list(zip(sex, races))))\n",
    "compas_extrapolated_100k = []\n",
    "\n",
    "for x in range(100000):\n",
    "    idx = random.randrange(len(new_compas))\n",
    "    compas_extrapolated_100k.append(new_compas[idx])\n",
    "\n",
    "if len(compas_extrapolated_100k) == 100000 and type(compas_extrapolated_100k) == list:\n",
    "    print('Data processed successfully.')\n",
    "else:\n",
    "    print('Data processing failed.')"
   ]
  },
  {
   "cell_type": "code",
   "execution_count": 2,
   "metadata": {},
   "outputs": [],
   "source": [
    "def data_bin_slicer_multival(nbdata, nbhypothesis, nbvaluelist, selectedvaluelist):\n",
    "    \"\"\"\n",
    "    This function takes in a list of data with nbvaluelist possible values\n",
    "    and combines values to reduce it down to len(selectedvaluelist) values. \n",
    "    It is used to control the number of possible values for our runtime experiments.\n",
    "    \n",
    "    ex. nbvaluelist = [1,2,3,4]\n",
    "    selectedvaluelist = [1,2]\n",
    "    nvaluelist = [[1],[2],[\"not-([1,2])\"]]\n",
    "    \"\"\"\n",
    "    nvaluelist = []\n",
    "    nhypothesis = []\n",
    "    ndata = []\n",
    "    biasval_name = '('+ str(selectedvaluelist[0])\n",
    "    for val in selectedvaluelist[1:]:\n",
    "        biasval_name += \", \" + str(val)\n",
    "    biasval_name+=')'\n",
    "    \n",
    "    for val in range(len(selectedvaluelist)):\n",
    "        nvaluelist.append(selectedvaluelist[val])\n",
    "    \n",
    "    nvaluelist.append(['not-'+biasval_name])\n",
    "    num_biasval = [nbdata.count(x) for x in selectedvaluelist]\n",
    "    ncounts = num_biasval\n",
    "    \n",
    "    ncounts.append(int(len(nbdata))-int(sum(num_biasval)))\n",
    "    for x in range(len(selectedvaluelist)):\n",
    "        ndata += [selectedvaluelist[x]]*num_biasval[x]\n",
    "    \n",
    "    ndata += [['not-'+biasval_name]]*ncounts[-1]\n",
    "            \n",
    "    for y in range(len(selectedvaluelist)):\n",
    "        nhypothesis.append(nbhypothesis[nbvaluelist.index(selectedvaluelist[y])])\n",
    "        \n",
    "    sum_nhyp = 0\n",
    "    \n",
    "    for s in range(len(nhypothesis)):\n",
    "        sum_nhyp += nhypothesis[s]\n",
    "    nhypothesis.append(1-sum_nhyp)\n",
    "    return (ndata,ncounts,nhypothesis,nvaluelist)"
   ]
  },
  {
   "cell_type": "code",
   "execution_count": 3,
   "metadata": {},
   "outputs": [
    {
     "name": "stdout",
     "output_type": "stream",
     "text": [
      "1.68 s ± 14 ms per loop (mean ± std. dev. of 10 runs, 1 loop each)\n",
      "1.88 s ± 23.2 ms per loop (mean ± std. dev. of 10 runs, 1 loop each)\n",
      "2.43 s ± 19.8 ms per loop (mean ± std. dev. of 10 runs, 1 loop each)\n",
      "3.91 s ± 24.4 ms per loop (mean ± std. dev. of 10 runs, 1 loop each)\n",
      "7.66 s ± 60.5 ms per loop (mean ± std. dev. of 10 runs, 1 loop each)\n",
      "15.4 s ± 136 ms per loop (mean ± std. dev. of 10 runs, 1 loop each)\n",
      "22.4 s ± 246 ms per loop (mean ± std. dev. of 10 runs, 1 loop each)\n",
      "17.4 s ± 163 ms per loop (mean ± std. dev. of 10 runs, 1 loop each)\n",
      "1.63 s ± 30.5 ms per loop (mean ± std. dev. of 10 runs, 1 loop each)\n"
     ]
    }
   ],
   "source": [
    "# Setup and Experiment\n",
    "\n",
    "value_list = [['Male','Caucasian'],['Female','Caucasian'],['Male','African-American'],['Female','African-American'],\n",
    "              ['Male','Hispanic'],['Female','Hispanic'],['Male','Asian'],['Female','Asian'],\n",
    "              ['Male','Other'],['Female','Other']]\n",
    "hypothesis = 10*[1/10] #uniform hypothesis\n",
    "alpha = 0.05 \n",
    "data = compas_extrapolated_100k\n",
    "num_values = 1\n",
    "\n",
    "while num_values < 10:\n",
    "    selectedvalue = []\n",
    "    for idx in range(num_values):\n",
    "        selectedvalue += [value_list[idx]]\n",
    "    ndata, ncounts, nhypothesis, nvaluelist = data_bin_slicer_multival(data, hypothesis, value_list, selectedvalue)\n",
    "    my_time = %timeit -n 1 -r 10 -o hypothesis_test_silent(ndata, nvaluelist, alpha, nhypothesis)\n",
    "    num_values += 1"
   ]
  }
 ],
 "metadata": {
  "kernelspec": {
   "display_name": "Python 3",
   "language": "python",
   "name": "python3"
  },
  "language_info": {
   "codemirror_mode": {
    "name": "ipython",
    "version": 3
   },
   "file_extension": ".py",
   "mimetype": "text/x-python",
   "name": "python",
   "nbconvert_exporter": "python",
   "pygments_lexer": "ipython3",
   "version": "3.8.5"
  }
 },
 "nbformat": 4,
 "nbformat_minor": 4
}
