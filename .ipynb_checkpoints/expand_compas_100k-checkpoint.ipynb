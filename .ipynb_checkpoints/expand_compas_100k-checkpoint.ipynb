{
 "cells": [
  {
   "cell_type": "code",
   "execution_count": 2,
   "metadata": {},
   "outputs": [
    {
     "name": "stdout",
     "output_type": "stream",
     "text": [
      "100000\n",
      "('African-American', 'Male')\n"
     ]
    }
   ],
   "source": [
    "import csv\n",
    "import random\n",
    "import pandas as pd\n",
    "\n",
    "file = open(r\"Datasets/compas.csv\", mode='r', encoding='utf-8-sig')\n",
    "csvreader = csv.reader(file)\n",
    "rowlist = [row for row in csvreader]\n",
    "for category in rowlist[0]:\n",
    "    index = rowlist[0].index(category)\n",
    "    exec(category + \" = [row[index] for row in rowlist[1:]]\")\n",
    "file.close()\n",
    "\n",
    "ids = [int(id[x]) for x in range(len(id))] \n",
    "person_id = [int(person_id[x]) for x in range(len(person_id))]\n",
    "scores = [score_text[x-1] for x in ids]\n",
    "\n",
    "file = open(r\"Datasets/people.csv\", mode='r', encoding='utf-8-sig')\n",
    "csvreader = csv.reader(file)\n",
    "rowlist = [row for row in csvreader]\n",
    "for category in rowlist[0]:\n",
    "    index = rowlist[0].index(category)\n",
    "    exec(category + \" = [row[index] for row in rowlist[1:]]\")\n",
    "file.close()\n",
    "\n",
    "idx = 0\n",
    "people_id = [int(id[x]) for x in range(len(id))] \n",
    "races = []\n",
    "sexes = []\n",
    "for x in person_id:\n",
    "    if x == people_id[idx]:\n",
    "        races.append(race[people_id[idx] - 1])\n",
    "        sexes.append(race[people_id[idx] - 1])\n",
    "    else:\n",
    "        idx += 1\n",
    "\n",
    "new_compas = list(filter(lambda x: not x[1] == 'N/A', list(zip(races,sex))))\n",
    "compas_extrapolated_100k = []\n",
    "\n",
    "for x in range(100000):\n",
    "    idx = random.randrange(len(new_compas))\n",
    "    compas_extrapolated_100k.append(new_compas[idx])\n",
    "\n",
    "print(len(compas_extrapolated_100k))\n",
    "print(compas_extrapolated_100k[0])"
   ]
  },
  {
   "cell_type": "code",
   "execution_count": null,
   "metadata": {},
   "outputs": [],
   "source": []
  }
 ],
 "metadata": {
  "kernelspec": {
   "display_name": "Python 3",
   "language": "python",
   "name": "python3"
  },
  "language_info": {
   "codemirror_mode": {
    "name": "ipython",
    "version": 3
   },
   "file_extension": ".py",
   "mimetype": "text/x-python",
   "name": "python",
   "nbconvert_exporter": "python",
   "pygments_lexer": "ipython3",
   "version": "3.8.5"
  }
 },
 "nbformat": 4,
 "nbformat_minor": 5
}
