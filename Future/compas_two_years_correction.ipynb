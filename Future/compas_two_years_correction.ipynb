{
 "cells": [
  {
   "cell_type": "code",
   "execution_count": 1,
   "metadata": {},
   "outputs": [
    {
     "name": "stdout",
     "output_type": "stream",
     "text": [
      "(6216, 51)\n"
     ]
    }
   ],
   "source": [
    "import pandas as pd\n",
    "df = pd.read_csv(r'compas-scores-two-years.csv')\n",
    "df['compas_screening_date'] = pd.to_datetime(df['compas_screening_date'])\n",
    "df = df[df['compas_screening_date'] <= '2014-04-01']\n",
    "df = df.drop(columns=['decile_score'])\n",
    "df = df.rename(columns={'decile_score.1': 'decile_score'})\n",
    "df = df.drop(columns=['priors_count.1'])\n",
    "print(df.shape)\n",
    "df.to_csv(\"compas-scores-two-years-corrected.csv\", sep = ',', encoding = 'utf-8-sig', index=False)"
   ]
  }
 ],
 "metadata": {
  "interpreter": {
   "hash": "245fd77b2da67ed7158ba12af3109599f966667ad00cbe050ff303900156d094"
  },
  "kernelspec": {
   "display_name": "Python 3",
   "language": "python",
   "name": "python3"
  },
  "language_info": {
   "codemirror_mode": {
    "name": "ipython",
    "version": 3
   },
   "file_extension": ".py",
   "mimetype": "text/x-python",
   "name": "python",
   "nbconvert_exporter": "python",
   "pygments_lexer": "ipython3",
   "version": "3.8.5"
  }
 },
 "nbformat": 4,
 "nbformat_minor": 4
}
